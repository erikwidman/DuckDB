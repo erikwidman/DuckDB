{
  "nbformat": 4,
  "nbformat_minor": 0,
  "metadata": {
    "colab": {
      "provenance": [],
      "toc_visible": true,
      "authorship_tag": "ABX9TyMRFrdbVuHgrm+mIrMfrOwq",
      "include_colab_link": true
    },
    "kernelspec": {
      "name": "python3",
      "display_name": "Python 3"
    },
    "language_info": {
      "name": "python"
    }
  },
  "cells": [
    {
      "cell_type": "markdown",
      "metadata": {
        "id": "view-in-github",
        "colab_type": "text"
      },
      "source": [
        "<a href=\"https://colab.research.google.com/github/erikwidman/DuckDB/blob/main/DuckDB_Playground.ipynb\" target=\"_parent\"><img src=\"https://colab.research.google.com/assets/colab-badge.svg\" alt=\"Open In Colab\"/></a>"
      ]
    },
    {
      "cell_type": "markdown",
      "source": [
        "#DuckDB Playground\n",
        "\n",
        "A notebook to get familiar with DuckDB, train models directly from a database without using pandas, and using Dask to parallelize the training.\n",
        "\n",
        "*Duck DB runs inside your python environment.*\n",
        "\n",
        "**Introduction to DuckDB:**\n",
        "\n",
        "DuckDB is an in-process SQL OLAP (Online Analytical Processing) database designed for fast query performance, ease of use, and seamless integration with Python, R, and other programming environments. It offers several key benefits:\n",
        "\n",
        "- **Fast Query Execution**: DuckDB uses vectorized query execution (fast joins), enabling high-speed analytics on large datasets.\n",
        "- **No Server Overhead**: As an in-process database, it runs directly within your application, eliminating the need for a separate database server.\n",
        "- **Zero Configuration**: It is easy to set up and requires no complex configurations, making it ideal for quick prototyping and analysis.\n",
        "- **Efficient Storage**: DuckDB supports efficient storage formats like Parquet, allowing you to query large datasets directly from these files without the need for preprocessing.\n",
        "- **Columnar Storage**: DuckDB uses a columnar storage format similar to Parquet, optimizing both memory usage and query performance, especially for analytical workloads.\n",
        "- **Parallel Execution**: DuckDB performs parallel query execution across multiple CPU cores by default, making it highly efficient for running complex analytical queries.\n",
        "- **Lightweight & Portable**: Its lightweight nature allows it to be embedded within applications, making it highly portable for different environments.\n",
        "- **Python UDFs (User Defined Functions)**: You can write Python functions and use them directly in SQL queries, allowing for custom operations that SQL does not support natively.\n",
        "\n",
        "This makes DuckDB an excellent choice for data exploration, ad-hoc analysis, and integrating into data science workflows.\n",
        "\n",
        "https://duckdb.org/\n"
      ],
      "metadata": {
        "id": "-VhN8_cq2iXn"
      }
    },
    {
      "cell_type": "markdown",
      "source": [
        "##Load Data"
      ],
      "metadata": {
        "id": "kiCosszr2raW"
      }
    },
    {
      "cell_type": "code",
      "execution_count": 1,
      "metadata": {
        "colab": {
          "base_uri": "https://localhost:8080/",
          "height": 505
        },
        "id": "rQ-1MXfk2fXb",
        "outputId": "68a495a1-419d-4d54-e36e-270d11f7c195"
      },
      "outputs": [
        {
          "output_type": "stream",
          "name": "stdout",
          "text": [
            "Mounted at /content/drive\n"
          ]
        },
        {
          "output_type": "stream",
          "name": "stderr",
          "text": [
            "<ipython-input-1-a0ad9fd89cd8>:9: DtypeWarning: Columns (25) have mixed types. Specify dtype option on import or set low_memory=False.\n",
            "  df = pd.read_csv('/content/drive/My Drive/Learning/Datasets/Airbnb_Open_Data.csv')\n"
          ]
        },
        {
          "output_type": "execute_result",
          "data": {
            "text/plain": [
              "        id                                              name      host_id  \\\n",
              "0  1001254                Clean & quiet apt home by the park  80014485718   \n",
              "1  1002102                             Skylit Midtown Castle  52335172823   \n",
              "2  1002403               THE VILLAGE OF HARLEM....NEW YORK !  78829239556   \n",
              "3  1002755                                               NaN  85098326012   \n",
              "4  1003689  Entire Apt: Spacious Studio/Loft by central park  92037596077   \n",
              "\n",
              "  host_identity_verified host_name neighbourhood_group neighbourhood  \\\n",
              "0            unconfirmed  Madaline            Brooklyn    Kensington   \n",
              "1               verified     Jenna           Manhattan       Midtown   \n",
              "2                    NaN     Elise           Manhattan        Harlem   \n",
              "3            unconfirmed     Garry            Brooklyn  Clinton Hill   \n",
              "4               verified    Lyndon           Manhattan   East Harlem   \n",
              "\n",
              "        lat      long        country country_code instant_bookable  \\\n",
              "0  40.64749 -73.97237  United States           US            False   \n",
              "1  40.75362 -73.98377  United States           US            False   \n",
              "2  40.80902 -73.94190  United States           US             True   \n",
              "3  40.68514 -73.95976  United States           US             True   \n",
              "4  40.79851 -73.94399  United States           US            False   \n",
              "\n",
              "  cancellation_policy        room_type  construction_year  price service_fee  \\\n",
              "0              strict     Private room             2020.0  $966        $193    \n",
              "1            moderate  Entire home/apt             2007.0  $142         $28    \n",
              "2            flexible     Private room             2005.0  $620        $124    \n",
              "3            moderate  Entire home/apt             2005.0  $368         $74    \n",
              "4            moderate  Entire home/apt             2009.0  $204         $41    \n",
              "\n",
              "   minimum_nights  number_of_reviews last_review  reviews_per_month  \\\n",
              "0            10.0                9.0  10/19/2021               0.21   \n",
              "1            30.0               45.0   5/21/2022               0.38   \n",
              "2             3.0                0.0         NaN                NaN   \n",
              "3            30.0              270.0    7/5/2019               4.64   \n",
              "4            10.0                9.0  11/19/2018               0.10   \n",
              "\n",
              "   review_rate_number  calculated_host_listings_count  availability_365  \\\n",
              "0                 4.0                             6.0             286.0   \n",
              "1                 4.0                             2.0             228.0   \n",
              "2                 5.0                             1.0             352.0   \n",
              "3                 4.0                             1.0             322.0   \n",
              "4                 3.0                             1.0             289.0   \n",
              "\n",
              "                                         house_rules license  \n",
              "0  Clean up and treat the home the way you'd like...     NaN  \n",
              "1  Pet friendly but please confirm with me if the...     NaN  \n",
              "2  I encourage you to use my kitchen, cooking and...     NaN  \n",
              "3                                                NaN     NaN  \n",
              "4  Please no smoking in the house, porch or on th...     NaN  "
            ],
            "text/html": [
              "\n",
              "  <div id=\"df-dc081dda-3fcd-4b58-9731-a2e1df9c18cd\" class=\"colab-df-container\">\n",
              "    <div>\n",
              "<style scoped>\n",
              "    .dataframe tbody tr th:only-of-type {\n",
              "        vertical-align: middle;\n",
              "    }\n",
              "\n",
              "    .dataframe tbody tr th {\n",
              "        vertical-align: top;\n",
              "    }\n",
              "\n",
              "    .dataframe thead th {\n",
              "        text-align: right;\n",
              "    }\n",
              "</style>\n",
              "<table border=\"1\" class=\"dataframe\">\n",
              "  <thead>\n",
              "    <tr style=\"text-align: right;\">\n",
              "      <th></th>\n",
              "      <th>id</th>\n",
              "      <th>name</th>\n",
              "      <th>host_id</th>\n",
              "      <th>host_identity_verified</th>\n",
              "      <th>host_name</th>\n",
              "      <th>neighbourhood_group</th>\n",
              "      <th>neighbourhood</th>\n",
              "      <th>lat</th>\n",
              "      <th>long</th>\n",
              "      <th>country</th>\n",
              "      <th>country_code</th>\n",
              "      <th>instant_bookable</th>\n",
              "      <th>cancellation_policy</th>\n",
              "      <th>room_type</th>\n",
              "      <th>construction_year</th>\n",
              "      <th>price</th>\n",
              "      <th>service_fee</th>\n",
              "      <th>minimum_nights</th>\n",
              "      <th>number_of_reviews</th>\n",
              "      <th>last_review</th>\n",
              "      <th>reviews_per_month</th>\n",
              "      <th>review_rate_number</th>\n",
              "      <th>calculated_host_listings_count</th>\n",
              "      <th>availability_365</th>\n",
              "      <th>house_rules</th>\n",
              "      <th>license</th>\n",
              "    </tr>\n",
              "  </thead>\n",
              "  <tbody>\n",
              "    <tr>\n",
              "      <th>0</th>\n",
              "      <td>1001254</td>\n",
              "      <td>Clean &amp; quiet apt home by the park</td>\n",
              "      <td>80014485718</td>\n",
              "      <td>unconfirmed</td>\n",
              "      <td>Madaline</td>\n",
              "      <td>Brooklyn</td>\n",
              "      <td>Kensington</td>\n",
              "      <td>40.64749</td>\n",
              "      <td>-73.97237</td>\n",
              "      <td>United States</td>\n",
              "      <td>US</td>\n",
              "      <td>False</td>\n",
              "      <td>strict</td>\n",
              "      <td>Private room</td>\n",
              "      <td>2020.0</td>\n",
              "      <td>$966</td>\n",
              "      <td>$193</td>\n",
              "      <td>10.0</td>\n",
              "      <td>9.0</td>\n",
              "      <td>10/19/2021</td>\n",
              "      <td>0.21</td>\n",
              "      <td>4.0</td>\n",
              "      <td>6.0</td>\n",
              "      <td>286.0</td>\n",
              "      <td>Clean up and treat the home the way you'd like...</td>\n",
              "      <td>NaN</td>\n",
              "    </tr>\n",
              "    <tr>\n",
              "      <th>1</th>\n",
              "      <td>1002102</td>\n",
              "      <td>Skylit Midtown Castle</td>\n",
              "      <td>52335172823</td>\n",
              "      <td>verified</td>\n",
              "      <td>Jenna</td>\n",
              "      <td>Manhattan</td>\n",
              "      <td>Midtown</td>\n",
              "      <td>40.75362</td>\n",
              "      <td>-73.98377</td>\n",
              "      <td>United States</td>\n",
              "      <td>US</td>\n",
              "      <td>False</td>\n",
              "      <td>moderate</td>\n",
              "      <td>Entire home/apt</td>\n",
              "      <td>2007.0</td>\n",
              "      <td>$142</td>\n",
              "      <td>$28</td>\n",
              "      <td>30.0</td>\n",
              "      <td>45.0</td>\n",
              "      <td>5/21/2022</td>\n",
              "      <td>0.38</td>\n",
              "      <td>4.0</td>\n",
              "      <td>2.0</td>\n",
              "      <td>228.0</td>\n",
              "      <td>Pet friendly but please confirm with me if the...</td>\n",
              "      <td>NaN</td>\n",
              "    </tr>\n",
              "    <tr>\n",
              "      <th>2</th>\n",
              "      <td>1002403</td>\n",
              "      <td>THE VILLAGE OF HARLEM....NEW YORK !</td>\n",
              "      <td>78829239556</td>\n",
              "      <td>NaN</td>\n",
              "      <td>Elise</td>\n",
              "      <td>Manhattan</td>\n",
              "      <td>Harlem</td>\n",
              "      <td>40.80902</td>\n",
              "      <td>-73.94190</td>\n",
              "      <td>United States</td>\n",
              "      <td>US</td>\n",
              "      <td>True</td>\n",
              "      <td>flexible</td>\n",
              "      <td>Private room</td>\n",
              "      <td>2005.0</td>\n",
              "      <td>$620</td>\n",
              "      <td>$124</td>\n",
              "      <td>3.0</td>\n",
              "      <td>0.0</td>\n",
              "      <td>NaN</td>\n",
              "      <td>NaN</td>\n",
              "      <td>5.0</td>\n",
              "      <td>1.0</td>\n",
              "      <td>352.0</td>\n",
              "      <td>I encourage you to use my kitchen, cooking and...</td>\n",
              "      <td>NaN</td>\n",
              "    </tr>\n",
              "    <tr>\n",
              "      <th>3</th>\n",
              "      <td>1002755</td>\n",
              "      <td>NaN</td>\n",
              "      <td>85098326012</td>\n",
              "      <td>unconfirmed</td>\n",
              "      <td>Garry</td>\n",
              "      <td>Brooklyn</td>\n",
              "      <td>Clinton Hill</td>\n",
              "      <td>40.68514</td>\n",
              "      <td>-73.95976</td>\n",
              "      <td>United States</td>\n",
              "      <td>US</td>\n",
              "      <td>True</td>\n",
              "      <td>moderate</td>\n",
              "      <td>Entire home/apt</td>\n",
              "      <td>2005.0</td>\n",
              "      <td>$368</td>\n",
              "      <td>$74</td>\n",
              "      <td>30.0</td>\n",
              "      <td>270.0</td>\n",
              "      <td>7/5/2019</td>\n",
              "      <td>4.64</td>\n",
              "      <td>4.0</td>\n",
              "      <td>1.0</td>\n",
              "      <td>322.0</td>\n",
              "      <td>NaN</td>\n",
              "      <td>NaN</td>\n",
              "    </tr>\n",
              "    <tr>\n",
              "      <th>4</th>\n",
              "      <td>1003689</td>\n",
              "      <td>Entire Apt: Spacious Studio/Loft by central park</td>\n",
              "      <td>92037596077</td>\n",
              "      <td>verified</td>\n",
              "      <td>Lyndon</td>\n",
              "      <td>Manhattan</td>\n",
              "      <td>East Harlem</td>\n",
              "      <td>40.79851</td>\n",
              "      <td>-73.94399</td>\n",
              "      <td>United States</td>\n",
              "      <td>US</td>\n",
              "      <td>False</td>\n",
              "      <td>moderate</td>\n",
              "      <td>Entire home/apt</td>\n",
              "      <td>2009.0</td>\n",
              "      <td>$204</td>\n",
              "      <td>$41</td>\n",
              "      <td>10.0</td>\n",
              "      <td>9.0</td>\n",
              "      <td>11/19/2018</td>\n",
              "      <td>0.10</td>\n",
              "      <td>3.0</td>\n",
              "      <td>1.0</td>\n",
              "      <td>289.0</td>\n",
              "      <td>Please no smoking in the house, porch or on th...</td>\n",
              "      <td>NaN</td>\n",
              "    </tr>\n",
              "  </tbody>\n",
              "</table>\n",
              "</div>\n",
              "    <div class=\"colab-df-buttons\">\n",
              "\n",
              "  <div class=\"colab-df-container\">\n",
              "    <button class=\"colab-df-convert\" onclick=\"convertToInteractive('df-dc081dda-3fcd-4b58-9731-a2e1df9c18cd')\"\n",
              "            title=\"Convert this dataframe to an interactive table.\"\n",
              "            style=\"display:none;\">\n",
              "\n",
              "  <svg xmlns=\"http://www.w3.org/2000/svg\" height=\"24px\" viewBox=\"0 -960 960 960\">\n",
              "    <path d=\"M120-120v-720h720v720H120Zm60-500h600v-160H180v160Zm220 220h160v-160H400v160Zm0 220h160v-160H400v160ZM180-400h160v-160H180v160Zm440 0h160v-160H620v160ZM180-180h160v-160H180v160Zm440 0h160v-160H620v160Z\"/>\n",
              "  </svg>\n",
              "    </button>\n",
              "\n",
              "  <style>\n",
              "    .colab-df-container {\n",
              "      display:flex;\n",
              "      gap: 12px;\n",
              "    }\n",
              "\n",
              "    .colab-df-convert {\n",
              "      background-color: #E8F0FE;\n",
              "      border: none;\n",
              "      border-radius: 50%;\n",
              "      cursor: pointer;\n",
              "      display: none;\n",
              "      fill: #1967D2;\n",
              "      height: 32px;\n",
              "      padding: 0 0 0 0;\n",
              "      width: 32px;\n",
              "    }\n",
              "\n",
              "    .colab-df-convert:hover {\n",
              "      background-color: #E2EBFA;\n",
              "      box-shadow: 0px 1px 2px rgba(60, 64, 67, 0.3), 0px 1px 3px 1px rgba(60, 64, 67, 0.15);\n",
              "      fill: #174EA6;\n",
              "    }\n",
              "\n",
              "    .colab-df-buttons div {\n",
              "      margin-bottom: 4px;\n",
              "    }\n",
              "\n",
              "    [theme=dark] .colab-df-convert {\n",
              "      background-color: #3B4455;\n",
              "      fill: #D2E3FC;\n",
              "    }\n",
              "\n",
              "    [theme=dark] .colab-df-convert:hover {\n",
              "      background-color: #434B5C;\n",
              "      box-shadow: 0px 1px 3px 1px rgba(0, 0, 0, 0.15);\n",
              "      filter: drop-shadow(0px 1px 2px rgba(0, 0, 0, 0.3));\n",
              "      fill: #FFFFFF;\n",
              "    }\n",
              "  </style>\n",
              "\n",
              "    <script>\n",
              "      const buttonEl =\n",
              "        document.querySelector('#df-dc081dda-3fcd-4b58-9731-a2e1df9c18cd button.colab-df-convert');\n",
              "      buttonEl.style.display =\n",
              "        google.colab.kernel.accessAllowed ? 'block' : 'none';\n",
              "\n",
              "      async function convertToInteractive(key) {\n",
              "        const element = document.querySelector('#df-dc081dda-3fcd-4b58-9731-a2e1df9c18cd');\n",
              "        const dataTable =\n",
              "          await google.colab.kernel.invokeFunction('convertToInteractive',\n",
              "                                                    [key], {});\n",
              "        if (!dataTable) return;\n",
              "\n",
              "        const docLinkHtml = 'Like what you see? Visit the ' +\n",
              "          '<a target=\"_blank\" href=https://colab.research.google.com/notebooks/data_table.ipynb>data table notebook</a>'\n",
              "          + ' to learn more about interactive tables.';\n",
              "        element.innerHTML = '';\n",
              "        dataTable['output_type'] = 'display_data';\n",
              "        await google.colab.output.renderOutput(dataTable, element);\n",
              "        const docLink = document.createElement('div');\n",
              "        docLink.innerHTML = docLinkHtml;\n",
              "        element.appendChild(docLink);\n",
              "      }\n",
              "    </script>\n",
              "  </div>\n",
              "\n",
              "\n",
              "<div id=\"df-2230542a-a16f-4730-bb7a-3f64e72e54a7\">\n",
              "  <button class=\"colab-df-quickchart\" onclick=\"quickchart('df-2230542a-a16f-4730-bb7a-3f64e72e54a7')\"\n",
              "            title=\"Suggest charts\"\n",
              "            style=\"display:none;\">\n",
              "\n",
              "<svg xmlns=\"http://www.w3.org/2000/svg\" height=\"24px\"viewBox=\"0 0 24 24\"\n",
              "     width=\"24px\">\n",
              "    <g>\n",
              "        <path d=\"M19 3H5c-1.1 0-2 .9-2 2v14c0 1.1.9 2 2 2h14c1.1 0 2-.9 2-2V5c0-1.1-.9-2-2-2zM9 17H7v-7h2v7zm4 0h-2V7h2v10zm4 0h-2v-4h2v4z\"/>\n",
              "    </g>\n",
              "</svg>\n",
              "  </button>\n",
              "\n",
              "<style>\n",
              "  .colab-df-quickchart {\n",
              "      --bg-color: #E8F0FE;\n",
              "      --fill-color: #1967D2;\n",
              "      --hover-bg-color: #E2EBFA;\n",
              "      --hover-fill-color: #174EA6;\n",
              "      --disabled-fill-color: #AAA;\n",
              "      --disabled-bg-color: #DDD;\n",
              "  }\n",
              "\n",
              "  [theme=dark] .colab-df-quickchart {\n",
              "      --bg-color: #3B4455;\n",
              "      --fill-color: #D2E3FC;\n",
              "      --hover-bg-color: #434B5C;\n",
              "      --hover-fill-color: #FFFFFF;\n",
              "      --disabled-bg-color: #3B4455;\n",
              "      --disabled-fill-color: #666;\n",
              "  }\n",
              "\n",
              "  .colab-df-quickchart {\n",
              "    background-color: var(--bg-color);\n",
              "    border: none;\n",
              "    border-radius: 50%;\n",
              "    cursor: pointer;\n",
              "    display: none;\n",
              "    fill: var(--fill-color);\n",
              "    height: 32px;\n",
              "    padding: 0;\n",
              "    width: 32px;\n",
              "  }\n",
              "\n",
              "  .colab-df-quickchart:hover {\n",
              "    background-color: var(--hover-bg-color);\n",
              "    box-shadow: 0 1px 2px rgba(60, 64, 67, 0.3), 0 1px 3px 1px rgba(60, 64, 67, 0.15);\n",
              "    fill: var(--button-hover-fill-color);\n",
              "  }\n",
              "\n",
              "  .colab-df-quickchart-complete:disabled,\n",
              "  .colab-df-quickchart-complete:disabled:hover {\n",
              "    background-color: var(--disabled-bg-color);\n",
              "    fill: var(--disabled-fill-color);\n",
              "    box-shadow: none;\n",
              "  }\n",
              "\n",
              "  .colab-df-spinner {\n",
              "    border: 2px solid var(--fill-color);\n",
              "    border-color: transparent;\n",
              "    border-bottom-color: var(--fill-color);\n",
              "    animation:\n",
              "      spin 1s steps(1) infinite;\n",
              "  }\n",
              "\n",
              "  @keyframes spin {\n",
              "    0% {\n",
              "      border-color: transparent;\n",
              "      border-bottom-color: var(--fill-color);\n",
              "      border-left-color: var(--fill-color);\n",
              "    }\n",
              "    20% {\n",
              "      border-color: transparent;\n",
              "      border-left-color: var(--fill-color);\n",
              "      border-top-color: var(--fill-color);\n",
              "    }\n",
              "    30% {\n",
              "      border-color: transparent;\n",
              "      border-left-color: var(--fill-color);\n",
              "      border-top-color: var(--fill-color);\n",
              "      border-right-color: var(--fill-color);\n",
              "    }\n",
              "    40% {\n",
              "      border-color: transparent;\n",
              "      border-right-color: var(--fill-color);\n",
              "      border-top-color: var(--fill-color);\n",
              "    }\n",
              "    60% {\n",
              "      border-color: transparent;\n",
              "      border-right-color: var(--fill-color);\n",
              "    }\n",
              "    80% {\n",
              "      border-color: transparent;\n",
              "      border-right-color: var(--fill-color);\n",
              "      border-bottom-color: var(--fill-color);\n",
              "    }\n",
              "    90% {\n",
              "      border-color: transparent;\n",
              "      border-bottom-color: var(--fill-color);\n",
              "    }\n",
              "  }\n",
              "</style>\n",
              "\n",
              "  <script>\n",
              "    async function quickchart(key) {\n",
              "      const quickchartButtonEl =\n",
              "        document.querySelector('#' + key + ' button');\n",
              "      quickchartButtonEl.disabled = true;  // To prevent multiple clicks.\n",
              "      quickchartButtonEl.classList.add('colab-df-spinner');\n",
              "      try {\n",
              "        const charts = await google.colab.kernel.invokeFunction(\n",
              "            'suggestCharts', [key], {});\n",
              "      } catch (error) {\n",
              "        console.error('Error during call to suggestCharts:', error);\n",
              "      }\n",
              "      quickchartButtonEl.classList.remove('colab-df-spinner');\n",
              "      quickchartButtonEl.classList.add('colab-df-quickchart-complete');\n",
              "    }\n",
              "    (() => {\n",
              "      let quickchartButtonEl =\n",
              "        document.querySelector('#df-2230542a-a16f-4730-bb7a-3f64e72e54a7 button');\n",
              "      quickchartButtonEl.style.display =\n",
              "        google.colab.kernel.accessAllowed ? 'block' : 'none';\n",
              "    })();\n",
              "  </script>\n",
              "</div>\n",
              "\n",
              "    </div>\n",
              "  </div>\n"
            ],
            "application/vnd.google.colaboratory.intrinsic+json": {
              "type": "dataframe",
              "variable_name": "df"
            }
          },
          "metadata": {},
          "execution_count": 1
        }
      ],
      "source": [
        "import pandas as pd\n",
        "from google.colab import drive\n",
        "from tabulate import tabulate\n",
        "import duckdb\n",
        "\n",
        "drive.mount('/content/drive')\n",
        "\n",
        "#Load data into data frame\n",
        "df = pd.read_csv('/content/drive/My Drive/Learning/Datasets/Airbnb_Open_Data.csv')\n",
        "\n",
        "# Make all headers lowercase and use underscores in spaces\n",
        "df.columns = df.columns.str.lower().str.replace(' ', '_')\n",
        "\n",
        "#View all columns\n",
        "pd.set_option('display.max_columns', None)\n",
        "df.head()"
      ]
    },
    {
      "cell_type": "markdown",
      "source": [
        "###Clean data"
      ],
      "metadata": {
        "id": "tZ-G3S_u9jGg"
      }
    },
    {
      "cell_type": "markdown",
      "source": [
        "Correct datatypes and remove $"
      ],
      "metadata": {
        "id": "q-fmz5aK59Ft"
      }
    },
    {
      "cell_type": "code",
      "source": [
        "# Remove $ from price and service_fee and convert to integers\n",
        "df['price'] = df['price'].str.replace('$', '').str.replace(',', '').astype(float).fillna(0).astype(int)\n",
        "df['service_fee'] = df['service_fee'].str.replace('$', '').str.replace(',', '').astype(float).fillna(0).astype(int)\n",
        "\n",
        "# Convert construction_year, minimum_nights, number_of_reviews, availability_365 to integer\n",
        "df['construction_year'] = df['construction_year'].fillna(0).astype(int)\n",
        "df['minimum_nights'] = df['minimum_nights'].fillna(0).astype(int)\n",
        "df['number_of_reviews'] = df['number_of_reviews'].fillna(0).astype(int)\n",
        "df['availability_365'] = df['availability_365'].fillna(0).astype(int)\n",
        "df['calculated_host_listings_count'] = df['calculated_host_listings_count'].fillna(0).astype(int)\n",
        "\n",
        "# Convert review_rate_number to object\n",
        "df['review_rate_number'] = df['review_rate_number'].fillna(0).astype(object)\n"
      ],
      "metadata": {
        "id": "Dtqn89te6Bvm"
      },
      "execution_count": 2,
      "outputs": []
    },
    {
      "cell_type": "code",
      "source": [
        "df.head()"
      ],
      "metadata": {
        "colab": {
          "base_uri": "https://localhost:8080/",
          "height": 452
        },
        "id": "eZJ-rYMe67HG",
        "outputId": "357efff7-a924-4d44-c232-fe3f532cbb50"
      },
      "execution_count": 3,
      "outputs": [
        {
          "output_type": "execute_result",
          "data": {
            "text/plain": [
              "        id                                              name      host_id  \\\n",
              "0  1001254                Clean & quiet apt home by the park  80014485718   \n",
              "1  1002102                             Skylit Midtown Castle  52335172823   \n",
              "2  1002403               THE VILLAGE OF HARLEM....NEW YORK !  78829239556   \n",
              "3  1002755                                               NaN  85098326012   \n",
              "4  1003689  Entire Apt: Spacious Studio/Loft by central park  92037596077   \n",
              "\n",
              "  host_identity_verified host_name neighbourhood_group neighbourhood  \\\n",
              "0            unconfirmed  Madaline            Brooklyn    Kensington   \n",
              "1               verified     Jenna           Manhattan       Midtown   \n",
              "2                    NaN     Elise           Manhattan        Harlem   \n",
              "3            unconfirmed     Garry            Brooklyn  Clinton Hill   \n",
              "4               verified    Lyndon           Manhattan   East Harlem   \n",
              "\n",
              "        lat      long        country country_code instant_bookable  \\\n",
              "0  40.64749 -73.97237  United States           US            False   \n",
              "1  40.75362 -73.98377  United States           US            False   \n",
              "2  40.80902 -73.94190  United States           US             True   \n",
              "3  40.68514 -73.95976  United States           US             True   \n",
              "4  40.79851 -73.94399  United States           US            False   \n",
              "\n",
              "  cancellation_policy        room_type  construction_year  price  service_fee  \\\n",
              "0              strict     Private room               2020    966          193   \n",
              "1            moderate  Entire home/apt               2007    142           28   \n",
              "2            flexible     Private room               2005    620          124   \n",
              "3            moderate  Entire home/apt               2005    368           74   \n",
              "4            moderate  Entire home/apt               2009    204           41   \n",
              "\n",
              "   minimum_nights  number_of_reviews last_review  reviews_per_month  \\\n",
              "0              10                  9  10/19/2021               0.21   \n",
              "1              30                 45   5/21/2022               0.38   \n",
              "2               3                  0         NaN                NaN   \n",
              "3              30                270    7/5/2019               4.64   \n",
              "4              10                  9  11/19/2018               0.10   \n",
              "\n",
              "  review_rate_number  calculated_host_listings_count  availability_365  \\\n",
              "0                4.0                               6               286   \n",
              "1                4.0                               2               228   \n",
              "2                5.0                               1               352   \n",
              "3                4.0                               1               322   \n",
              "4                3.0                               1               289   \n",
              "\n",
              "                                         house_rules license  \n",
              "0  Clean up and treat the home the way you'd like...     NaN  \n",
              "1  Pet friendly but please confirm with me if the...     NaN  \n",
              "2  I encourage you to use my kitchen, cooking and...     NaN  \n",
              "3                                                NaN     NaN  \n",
              "4  Please no smoking in the house, porch or on th...     NaN  "
            ],
            "text/html": [
              "\n",
              "  <div id=\"df-b94ee6a3-fc82-4d61-82ea-be8c20b2611d\" class=\"colab-df-container\">\n",
              "    <div>\n",
              "<style scoped>\n",
              "    .dataframe tbody tr th:only-of-type {\n",
              "        vertical-align: middle;\n",
              "    }\n",
              "\n",
              "    .dataframe tbody tr th {\n",
              "        vertical-align: top;\n",
              "    }\n",
              "\n",
              "    .dataframe thead th {\n",
              "        text-align: right;\n",
              "    }\n",
              "</style>\n",
              "<table border=\"1\" class=\"dataframe\">\n",
              "  <thead>\n",
              "    <tr style=\"text-align: right;\">\n",
              "      <th></th>\n",
              "      <th>id</th>\n",
              "      <th>name</th>\n",
              "      <th>host_id</th>\n",
              "      <th>host_identity_verified</th>\n",
              "      <th>host_name</th>\n",
              "      <th>neighbourhood_group</th>\n",
              "      <th>neighbourhood</th>\n",
              "      <th>lat</th>\n",
              "      <th>long</th>\n",
              "      <th>country</th>\n",
              "      <th>country_code</th>\n",
              "      <th>instant_bookable</th>\n",
              "      <th>cancellation_policy</th>\n",
              "      <th>room_type</th>\n",
              "      <th>construction_year</th>\n",
              "      <th>price</th>\n",
              "      <th>service_fee</th>\n",
              "      <th>minimum_nights</th>\n",
              "      <th>number_of_reviews</th>\n",
              "      <th>last_review</th>\n",
              "      <th>reviews_per_month</th>\n",
              "      <th>review_rate_number</th>\n",
              "      <th>calculated_host_listings_count</th>\n",
              "      <th>availability_365</th>\n",
              "      <th>house_rules</th>\n",
              "      <th>license</th>\n",
              "    </tr>\n",
              "  </thead>\n",
              "  <tbody>\n",
              "    <tr>\n",
              "      <th>0</th>\n",
              "      <td>1001254</td>\n",
              "      <td>Clean &amp; quiet apt home by the park</td>\n",
              "      <td>80014485718</td>\n",
              "      <td>unconfirmed</td>\n",
              "      <td>Madaline</td>\n",
              "      <td>Brooklyn</td>\n",
              "      <td>Kensington</td>\n",
              "      <td>40.64749</td>\n",
              "      <td>-73.97237</td>\n",
              "      <td>United States</td>\n",
              "      <td>US</td>\n",
              "      <td>False</td>\n",
              "      <td>strict</td>\n",
              "      <td>Private room</td>\n",
              "      <td>2020</td>\n",
              "      <td>966</td>\n",
              "      <td>193</td>\n",
              "      <td>10</td>\n",
              "      <td>9</td>\n",
              "      <td>10/19/2021</td>\n",
              "      <td>0.21</td>\n",
              "      <td>4.0</td>\n",
              "      <td>6</td>\n",
              "      <td>286</td>\n",
              "      <td>Clean up and treat the home the way you'd like...</td>\n",
              "      <td>NaN</td>\n",
              "    </tr>\n",
              "    <tr>\n",
              "      <th>1</th>\n",
              "      <td>1002102</td>\n",
              "      <td>Skylit Midtown Castle</td>\n",
              "      <td>52335172823</td>\n",
              "      <td>verified</td>\n",
              "      <td>Jenna</td>\n",
              "      <td>Manhattan</td>\n",
              "      <td>Midtown</td>\n",
              "      <td>40.75362</td>\n",
              "      <td>-73.98377</td>\n",
              "      <td>United States</td>\n",
              "      <td>US</td>\n",
              "      <td>False</td>\n",
              "      <td>moderate</td>\n",
              "      <td>Entire home/apt</td>\n",
              "      <td>2007</td>\n",
              "      <td>142</td>\n",
              "      <td>28</td>\n",
              "      <td>30</td>\n",
              "      <td>45</td>\n",
              "      <td>5/21/2022</td>\n",
              "      <td>0.38</td>\n",
              "      <td>4.0</td>\n",
              "      <td>2</td>\n",
              "      <td>228</td>\n",
              "      <td>Pet friendly but please confirm with me if the...</td>\n",
              "      <td>NaN</td>\n",
              "    </tr>\n",
              "    <tr>\n",
              "      <th>2</th>\n",
              "      <td>1002403</td>\n",
              "      <td>THE VILLAGE OF HARLEM....NEW YORK !</td>\n",
              "      <td>78829239556</td>\n",
              "      <td>NaN</td>\n",
              "      <td>Elise</td>\n",
              "      <td>Manhattan</td>\n",
              "      <td>Harlem</td>\n",
              "      <td>40.80902</td>\n",
              "      <td>-73.94190</td>\n",
              "      <td>United States</td>\n",
              "      <td>US</td>\n",
              "      <td>True</td>\n",
              "      <td>flexible</td>\n",
              "      <td>Private room</td>\n",
              "      <td>2005</td>\n",
              "      <td>620</td>\n",
              "      <td>124</td>\n",
              "      <td>3</td>\n",
              "      <td>0</td>\n",
              "      <td>NaN</td>\n",
              "      <td>NaN</td>\n",
              "      <td>5.0</td>\n",
              "      <td>1</td>\n",
              "      <td>352</td>\n",
              "      <td>I encourage you to use my kitchen, cooking and...</td>\n",
              "      <td>NaN</td>\n",
              "    </tr>\n",
              "    <tr>\n",
              "      <th>3</th>\n",
              "      <td>1002755</td>\n",
              "      <td>NaN</td>\n",
              "      <td>85098326012</td>\n",
              "      <td>unconfirmed</td>\n",
              "      <td>Garry</td>\n",
              "      <td>Brooklyn</td>\n",
              "      <td>Clinton Hill</td>\n",
              "      <td>40.68514</td>\n",
              "      <td>-73.95976</td>\n",
              "      <td>United States</td>\n",
              "      <td>US</td>\n",
              "      <td>True</td>\n",
              "      <td>moderate</td>\n",
              "      <td>Entire home/apt</td>\n",
              "      <td>2005</td>\n",
              "      <td>368</td>\n",
              "      <td>74</td>\n",
              "      <td>30</td>\n",
              "      <td>270</td>\n",
              "      <td>7/5/2019</td>\n",
              "      <td>4.64</td>\n",
              "      <td>4.0</td>\n",
              "      <td>1</td>\n",
              "      <td>322</td>\n",
              "      <td>NaN</td>\n",
              "      <td>NaN</td>\n",
              "    </tr>\n",
              "    <tr>\n",
              "      <th>4</th>\n",
              "      <td>1003689</td>\n",
              "      <td>Entire Apt: Spacious Studio/Loft by central park</td>\n",
              "      <td>92037596077</td>\n",
              "      <td>verified</td>\n",
              "      <td>Lyndon</td>\n",
              "      <td>Manhattan</td>\n",
              "      <td>East Harlem</td>\n",
              "      <td>40.79851</td>\n",
              "      <td>-73.94399</td>\n",
              "      <td>United States</td>\n",
              "      <td>US</td>\n",
              "      <td>False</td>\n",
              "      <td>moderate</td>\n",
              "      <td>Entire home/apt</td>\n",
              "      <td>2009</td>\n",
              "      <td>204</td>\n",
              "      <td>41</td>\n",
              "      <td>10</td>\n",
              "      <td>9</td>\n",
              "      <td>11/19/2018</td>\n",
              "      <td>0.10</td>\n",
              "      <td>3.0</td>\n",
              "      <td>1</td>\n",
              "      <td>289</td>\n",
              "      <td>Please no smoking in the house, porch or on th...</td>\n",
              "      <td>NaN</td>\n",
              "    </tr>\n",
              "  </tbody>\n",
              "</table>\n",
              "</div>\n",
              "    <div class=\"colab-df-buttons\">\n",
              "\n",
              "  <div class=\"colab-df-container\">\n",
              "    <button class=\"colab-df-convert\" onclick=\"convertToInteractive('df-b94ee6a3-fc82-4d61-82ea-be8c20b2611d')\"\n",
              "            title=\"Convert this dataframe to an interactive table.\"\n",
              "            style=\"display:none;\">\n",
              "\n",
              "  <svg xmlns=\"http://www.w3.org/2000/svg\" height=\"24px\" viewBox=\"0 -960 960 960\">\n",
              "    <path d=\"M120-120v-720h720v720H120Zm60-500h600v-160H180v160Zm220 220h160v-160H400v160Zm0 220h160v-160H400v160ZM180-400h160v-160H180v160Zm440 0h160v-160H620v160ZM180-180h160v-160H180v160Zm440 0h160v-160H620v160Z\"/>\n",
              "  </svg>\n",
              "    </button>\n",
              "\n",
              "  <style>\n",
              "    .colab-df-container {\n",
              "      display:flex;\n",
              "      gap: 12px;\n",
              "    }\n",
              "\n",
              "    .colab-df-convert {\n",
              "      background-color: #E8F0FE;\n",
              "      border: none;\n",
              "      border-radius: 50%;\n",
              "      cursor: pointer;\n",
              "      display: none;\n",
              "      fill: #1967D2;\n",
              "      height: 32px;\n",
              "      padding: 0 0 0 0;\n",
              "      width: 32px;\n",
              "    }\n",
              "\n",
              "    .colab-df-convert:hover {\n",
              "      background-color: #E2EBFA;\n",
              "      box-shadow: 0px 1px 2px rgba(60, 64, 67, 0.3), 0px 1px 3px 1px rgba(60, 64, 67, 0.15);\n",
              "      fill: #174EA6;\n",
              "    }\n",
              "\n",
              "    .colab-df-buttons div {\n",
              "      margin-bottom: 4px;\n",
              "    }\n",
              "\n",
              "    [theme=dark] .colab-df-convert {\n",
              "      background-color: #3B4455;\n",
              "      fill: #D2E3FC;\n",
              "    }\n",
              "\n",
              "    [theme=dark] .colab-df-convert:hover {\n",
              "      background-color: #434B5C;\n",
              "      box-shadow: 0px 1px 3px 1px rgba(0, 0, 0, 0.15);\n",
              "      filter: drop-shadow(0px 1px 2px rgba(0, 0, 0, 0.3));\n",
              "      fill: #FFFFFF;\n",
              "    }\n",
              "  </style>\n",
              "\n",
              "    <script>\n",
              "      const buttonEl =\n",
              "        document.querySelector('#df-b94ee6a3-fc82-4d61-82ea-be8c20b2611d button.colab-df-convert');\n",
              "      buttonEl.style.display =\n",
              "        google.colab.kernel.accessAllowed ? 'block' : 'none';\n",
              "\n",
              "      async function convertToInteractive(key) {\n",
              "        const element = document.querySelector('#df-b94ee6a3-fc82-4d61-82ea-be8c20b2611d');\n",
              "        const dataTable =\n",
              "          await google.colab.kernel.invokeFunction('convertToInteractive',\n",
              "                                                    [key], {});\n",
              "        if (!dataTable) return;\n",
              "\n",
              "        const docLinkHtml = 'Like what you see? Visit the ' +\n",
              "          '<a target=\"_blank\" href=https://colab.research.google.com/notebooks/data_table.ipynb>data table notebook</a>'\n",
              "          + ' to learn more about interactive tables.';\n",
              "        element.innerHTML = '';\n",
              "        dataTable['output_type'] = 'display_data';\n",
              "        await google.colab.output.renderOutput(dataTable, element);\n",
              "        const docLink = document.createElement('div');\n",
              "        docLink.innerHTML = docLinkHtml;\n",
              "        element.appendChild(docLink);\n",
              "      }\n",
              "    </script>\n",
              "  </div>\n",
              "\n",
              "\n",
              "<div id=\"df-9f2d74d0-748a-4510-9d26-2a263717b851\">\n",
              "  <button class=\"colab-df-quickchart\" onclick=\"quickchart('df-9f2d74d0-748a-4510-9d26-2a263717b851')\"\n",
              "            title=\"Suggest charts\"\n",
              "            style=\"display:none;\">\n",
              "\n",
              "<svg xmlns=\"http://www.w3.org/2000/svg\" height=\"24px\"viewBox=\"0 0 24 24\"\n",
              "     width=\"24px\">\n",
              "    <g>\n",
              "        <path d=\"M19 3H5c-1.1 0-2 .9-2 2v14c0 1.1.9 2 2 2h14c1.1 0 2-.9 2-2V5c0-1.1-.9-2-2-2zM9 17H7v-7h2v7zm4 0h-2V7h2v10zm4 0h-2v-4h2v4z\"/>\n",
              "    </g>\n",
              "</svg>\n",
              "  </button>\n",
              "\n",
              "<style>\n",
              "  .colab-df-quickchart {\n",
              "      --bg-color: #E8F0FE;\n",
              "      --fill-color: #1967D2;\n",
              "      --hover-bg-color: #E2EBFA;\n",
              "      --hover-fill-color: #174EA6;\n",
              "      --disabled-fill-color: #AAA;\n",
              "      --disabled-bg-color: #DDD;\n",
              "  }\n",
              "\n",
              "  [theme=dark] .colab-df-quickchart {\n",
              "      --bg-color: #3B4455;\n",
              "      --fill-color: #D2E3FC;\n",
              "      --hover-bg-color: #434B5C;\n",
              "      --hover-fill-color: #FFFFFF;\n",
              "      --disabled-bg-color: #3B4455;\n",
              "      --disabled-fill-color: #666;\n",
              "  }\n",
              "\n",
              "  .colab-df-quickchart {\n",
              "    background-color: var(--bg-color);\n",
              "    border: none;\n",
              "    border-radius: 50%;\n",
              "    cursor: pointer;\n",
              "    display: none;\n",
              "    fill: var(--fill-color);\n",
              "    height: 32px;\n",
              "    padding: 0;\n",
              "    width: 32px;\n",
              "  }\n",
              "\n",
              "  .colab-df-quickchart:hover {\n",
              "    background-color: var(--hover-bg-color);\n",
              "    box-shadow: 0 1px 2px rgba(60, 64, 67, 0.3), 0 1px 3px 1px rgba(60, 64, 67, 0.15);\n",
              "    fill: var(--button-hover-fill-color);\n",
              "  }\n",
              "\n",
              "  .colab-df-quickchart-complete:disabled,\n",
              "  .colab-df-quickchart-complete:disabled:hover {\n",
              "    background-color: var(--disabled-bg-color);\n",
              "    fill: var(--disabled-fill-color);\n",
              "    box-shadow: none;\n",
              "  }\n",
              "\n",
              "  .colab-df-spinner {\n",
              "    border: 2px solid var(--fill-color);\n",
              "    border-color: transparent;\n",
              "    border-bottom-color: var(--fill-color);\n",
              "    animation:\n",
              "      spin 1s steps(1) infinite;\n",
              "  }\n",
              "\n",
              "  @keyframes spin {\n",
              "    0% {\n",
              "      border-color: transparent;\n",
              "      border-bottom-color: var(--fill-color);\n",
              "      border-left-color: var(--fill-color);\n",
              "    }\n",
              "    20% {\n",
              "      border-color: transparent;\n",
              "      border-left-color: var(--fill-color);\n",
              "      border-top-color: var(--fill-color);\n",
              "    }\n",
              "    30% {\n",
              "      border-color: transparent;\n",
              "      border-left-color: var(--fill-color);\n",
              "      border-top-color: var(--fill-color);\n",
              "      border-right-color: var(--fill-color);\n",
              "    }\n",
              "    40% {\n",
              "      border-color: transparent;\n",
              "      border-right-color: var(--fill-color);\n",
              "      border-top-color: var(--fill-color);\n",
              "    }\n",
              "    60% {\n",
              "      border-color: transparent;\n",
              "      border-right-color: var(--fill-color);\n",
              "    }\n",
              "    80% {\n",
              "      border-color: transparent;\n",
              "      border-right-color: var(--fill-color);\n",
              "      border-bottom-color: var(--fill-color);\n",
              "    }\n",
              "    90% {\n",
              "      border-color: transparent;\n",
              "      border-bottom-color: var(--fill-color);\n",
              "    }\n",
              "  }\n",
              "</style>\n",
              "\n",
              "  <script>\n",
              "    async function quickchart(key) {\n",
              "      const quickchartButtonEl =\n",
              "        document.querySelector('#' + key + ' button');\n",
              "      quickchartButtonEl.disabled = true;  // To prevent multiple clicks.\n",
              "      quickchartButtonEl.classList.add('colab-df-spinner');\n",
              "      try {\n",
              "        const charts = await google.colab.kernel.invokeFunction(\n",
              "            'suggestCharts', [key], {});\n",
              "      } catch (error) {\n",
              "        console.error('Error during call to suggestCharts:', error);\n",
              "      }\n",
              "      quickchartButtonEl.classList.remove('colab-df-spinner');\n",
              "      quickchartButtonEl.classList.add('colab-df-quickchart-complete');\n",
              "    }\n",
              "    (() => {\n",
              "      let quickchartButtonEl =\n",
              "        document.querySelector('#df-9f2d74d0-748a-4510-9d26-2a263717b851 button');\n",
              "      quickchartButtonEl.style.display =\n",
              "        google.colab.kernel.accessAllowed ? 'block' : 'none';\n",
              "    })();\n",
              "  </script>\n",
              "</div>\n",
              "\n",
              "    </div>\n",
              "  </div>\n"
            ],
            "application/vnd.google.colaboratory.intrinsic+json": {
              "type": "dataframe",
              "variable_name": "df"
            }
          },
          "metadata": {},
          "execution_count": 3
        }
      ]
    },
    {
      "cell_type": "markdown",
      "source": [
        "##Install DuckDB & ingest data"
      ],
      "metadata": {
        "id": "PPg_K4zk2xLo"
      }
    },
    {
      "cell_type": "code",
      "source": [
        "#!pip install duckdb"
      ],
      "metadata": {
        "id": "aEBQUa552tJH"
      },
      "execution_count": 4,
      "outputs": []
    },
    {
      "cell_type": "code",
      "source": [
        "# Create a DuckDB database\n",
        "con = duckdb.connect('airbnb.db')\n",
        "\n",
        "# Create a table in the database from the pandas DataFrame - Super cool!\n",
        "con.execute(\"CREATE OR REPLACE TABLE airbnb_data AS SELECT * FROM df\")"
      ],
      "metadata": {
        "colab": {
          "base_uri": "https://localhost:8080/"
        },
        "id": "JkRJW2lS3FEr",
        "outputId": "93556ee9-2d26-4007-e728-f9a2bbc4d441"
      },
      "execution_count": 5,
      "outputs": [
        {
          "output_type": "execute_result",
          "data": {
            "text/plain": [
              "<duckdb.duckdb.DuckDBPyConnection at 0x7e9c83dd23b0>"
            ]
          },
          "metadata": {},
          "execution_count": 5
        }
      ]
    },
    {
      "cell_type": "code",
      "source": [
        "# View the first five rows of the table\n",
        "result = con.execute(\"SELECT * FROM airbnb_data LIMIT 5\").df()\n",
        "print(tabulate(result, headers='keys', tablefmt='psql'))\n"
      ],
      "metadata": {
        "colab": {
          "base_uri": "https://localhost:8080/"
        },
        "id": "193IFZMy3Rae",
        "outputId": "0308f118-b853-46c7-e4c0-d2ad53e9d420"
      },
      "execution_count": 6,
      "outputs": [
        {
          "output_type": "stream",
          "name": "stdout",
          "text": [
            "+----+---------+--------------------------------------------------+-------------+--------------------------+-------------+-----------------------+-----------------+---------+----------+---------------+----------------+--------------------+-----------------------+-----------------+---------------------+---------+---------------+------------------+---------------------+---------------+---------------------+----------------------+----------------------------------+--------------------+---------------------------------------------------------------------------------------------------------------------------------------------------------------------------------------------------------------------------------------------------------------------------------------------------------------------------------------------------------------------------------------------------------------------+-----------+\n",
            "|    |      id | name                                             |     host_id | host_identity_verified   | host_name   | neighbourhood_group   | neighbourhood   |     lat |     long | country       | country_code   | instant_bookable   | cancellation_policy   | room_type       |   construction_year |   price |   service_fee |   minimum_nights |   number_of_reviews | last_review   |   reviews_per_month |   review_rate_number |   calculated_host_listings_count |   availability_365 | house_rules                                                                                                                                                                                                                                                                                                                                                                                                         | license   |\n",
            "|----+---------+--------------------------------------------------+-------------+--------------------------+-------------+-----------------------+-----------------+---------+----------+---------------+----------------+--------------------+-----------------------+-----------------+---------------------+---------+---------------+------------------+---------------------+---------------+---------------------+----------------------+----------------------------------+--------------------+---------------------------------------------------------------------------------------------------------------------------------------------------------------------------------------------------------------------------------------------------------------------------------------------------------------------------------------------------------------------------------------------------------------------+-----------|\n",
            "|  0 | 1001254 | Clean & quiet apt home by the park               | 80014485718 | unconfirmed              | Madaline    | Brooklyn              | Kensington      | 40.6475 | -73.9724 | United States | US             | False              | strict                | Private room    |                2020 |     966 |           193 |               10 |                   9 | 10/19/2021    |                0.21 |                    4 |                                6 |                286 | Clean up and treat the home the way you'd like your home to be treated.  No smoking.                                                                                                                                                                                                                                                                                                                                |           |\n",
            "|  1 | 1002102 | Skylit Midtown Castle                            | 52335172823 | verified                 | Jenna       | Manhattan             | Midtown         | 40.7536 | -73.9838 | United States | US             | False              | moderate              | Entire home/apt |                2007 |     142 |            28 |               30 |                  45 | 5/21/2022     |                0.38 |                    4 |                                2 |                228 | Pet friendly but please confirm with me if the pet you are planning on bringing with you is OK. I have a cute and quiet mixed chihuahua. I could accept more guests (for an extra fee) but this also needs to be confirmed beforehand. Also friends traveling together could sleep in separate beds for an extra fee (the second bed is either a sofa bed or inflatable bed). Smoking is only allowed on the porch. |           |\n",
            "|  2 | 1002403 | THE VILLAGE OF HARLEM....NEW YORK !              | 78829239556 |                          | Elise       | Manhattan             | Harlem          | 40.809  | -73.9419 | United States | US             | True               | flexible              | Private room    |                2005 |     620 |           124 |                3 |                   0 |               |              nan    |                    5 |                                1 |                352 | I encourage you to use my kitchen, cooking and laundry facilities. There is no additional charge to use the washer/dryer in the basement.  No smoking, inside or outside. Come home as late as you want.  If you come home stumbling drunk, it's OK the first time. If you do it again, and you wake up me or the neighbors downstairs, we will be annoyed.  (Just so you know . . . )                              |           |\n",
            "|  3 | 1002755 |                                                  | 85098326012 | unconfirmed              | Garry       | Brooklyn              | Clinton Hill    | 40.6851 | -73.9598 | United States | US             | True               | moderate              | Entire home/apt |                2005 |     368 |            74 |               30 |                 270 | 7/5/2019      |                4.64 |                    4 |                                1 |                322 |                                                                                                                                                                                                                                                                                                                                                                                                                     |           |\n",
            "|  4 | 1003689 | Entire Apt: Spacious Studio/Loft by central park | 92037596077 | verified                 | Lyndon      | Manhattan             | East Harlem     | 40.7985 | -73.944  | United States | US             | False              | moderate              | Entire home/apt |                2009 |     204 |            41 |               10 |                   9 | 11/19/2018    |                0.1  |                    3 |                                1 |                289 | Please no smoking in the house, porch or on the property (you can go to the nearby corner).  Reasonable quiet after 10:30 pm.  Please remove shoes in the house.                                                                                                                                                                                                                                                    |           |\n",
            "+----+---------+--------------------------------------------------+-------------+--------------------------+-------------+-----------------------+-----------------+---------+----------+---------------+----------------+--------------------+-----------------------+-----------------+---------------------+---------+---------------+------------------+---------------------+---------------+---------------------+----------------------+----------------------------------+--------------------+---------------------------------------------------------------------------------------------------------------------------------------------------------------------------------------------------------------------------------------------------------------------------------------------------------------------------------------------------------------------------------------------------------------------+-----------+\n"
          ]
        }
      ]
    },
    {
      "cell_type": "markdown",
      "source": [
        "Let's describe the data in the table."
      ],
      "metadata": {
        "id": "A28pos3Th_IU"
      }
    },
    {
      "cell_type": "code",
      "source": [
        "result = con.execute(\"DESCRIBE airbnb_data\").df()\n",
        "print(tabulate(result, headers='keys', tablefmt='psql'))"
      ],
      "metadata": {
        "colab": {
          "base_uri": "https://localhost:8080/"
        },
        "id": "07M78DHehwie",
        "outputId": "2e22484e-d51f-4c83-e9a3-8906c38054dc"
      },
      "execution_count": 7,
      "outputs": [
        {
          "output_type": "stream",
          "name": "stdout",
          "text": [
            "+----+--------------------------------+---------------+--------+-------+-----------+---------+\n",
            "|    | column_name                    | column_type   | null   | key   | default   | extra   |\n",
            "|----+--------------------------------+---------------+--------+-------+-----------+---------|\n",
            "|  0 | id                             | BIGINT        | YES    |       |           |         |\n",
            "|  1 | name                           | VARCHAR       | YES    |       |           |         |\n",
            "|  2 | host_id                        | BIGINT        | YES    |       |           |         |\n",
            "|  3 | host_identity_verified         | VARCHAR       | YES    |       |           |         |\n",
            "|  4 | host_name                      | VARCHAR       | YES    |       |           |         |\n",
            "|  5 | neighbourhood_group            | VARCHAR       | YES    |       |           |         |\n",
            "|  6 | neighbourhood                  | VARCHAR       | YES    |       |           |         |\n",
            "|  7 | lat                            | DOUBLE        | YES    |       |           |         |\n",
            "|  8 | long                           | DOUBLE        | YES    |       |           |         |\n",
            "|  9 | country                        | VARCHAR       | YES    |       |           |         |\n",
            "| 10 | country_code                   | VARCHAR       | YES    |       |           |         |\n",
            "| 11 | instant_bookable               | BOOLEAN       | YES    |       |           |         |\n",
            "| 12 | cancellation_policy            | VARCHAR       | YES    |       |           |         |\n",
            "| 13 | room_type                      | VARCHAR       | YES    |       |           |         |\n",
            "| 14 | construction_year              | BIGINT        | YES    |       |           |         |\n",
            "| 15 | price                          | BIGINT        | YES    |       |           |         |\n",
            "| 16 | service_fee                    | BIGINT        | YES    |       |           |         |\n",
            "| 17 | minimum_nights                 | BIGINT        | YES    |       |           |         |\n",
            "| 18 | number_of_reviews              | BIGINT        | YES    |       |           |         |\n",
            "| 19 | last_review                    | VARCHAR       | YES    |       |           |         |\n",
            "| 20 | reviews_per_month              | DOUBLE        | YES    |       |           |         |\n",
            "| 21 | review_rate_number             | DOUBLE        | YES    |       |           |         |\n",
            "| 22 | calculated_host_listings_count | BIGINT        | YES    |       |           |         |\n",
            "| 23 | availability_365               | BIGINT        | YES    |       |           |         |\n",
            "| 24 | house_rules                    | VARCHAR       | YES    |       |           |         |\n",
            "| 25 | license                        | VARCHAR       | YES    |       |           |         |\n",
            "+----+--------------------------------+---------------+--------+-------+-----------+---------+\n"
          ]
        }
      ]
    },
    {
      "cell_type": "markdown",
      "source": [
        "##SQL Querries"
      ],
      "metadata": {
        "id": "9ldmMEUt3h3F"
      }
    },
    {
      "cell_type": "markdown",
      "source": [
        "How many rows are in the table?"
      ],
      "metadata": {
        "id": "WJ-qQ8P53wLp"
      }
    },
    {
      "cell_type": "code",
      "source": [
        "# This line executes an SQL query on the DuckDB connection con\n",
        "result = con.execute(\"SELECT count(*) FROM airbnb_data\").df()\n",
        "print(tabulate(result, headers='keys', tablefmt='psql'))\n"
      ],
      "metadata": {
        "colab": {
          "base_uri": "https://localhost:8080/"
        },
        "id": "rGOBV3123134",
        "outputId": "86665308-21f1-414e-92a0-1a4fb97734d9"
      },
      "execution_count": 8,
      "outputs": [
        {
          "output_type": "stream",
          "name": "stdout",
          "text": [
            "+----+----------------+\n",
            "|    |   count_star() |\n",
            "|----+----------------|\n",
            "|  0 |         102599 |\n",
            "+----+----------------+\n"
          ]
        }
      ]
    },
    {
      "cell_type": "markdown",
      "source": [
        "How many listings in new york are priced over $500?"
      ],
      "metadata": {
        "id": "rfL-gUKd3l3V"
      }
    },
    {
      "source": [
        "result = con.execute(\"SELECT count(*) FROM airbnb_data WHERE price > 500 AND neighbourhood_group = 'Manhattan'\").df()\n",
        "print(tabulate(result, headers='keys', tablefmt='psql'))"
      ],
      "cell_type": "code",
      "metadata": {
        "colab": {
          "base_uri": "https://localhost:8080/"
        },
        "id": "nxwV0wzh8ysF",
        "outputId": "c22abf0c-3647-494d-e872-a8256d12f399"
      },
      "execution_count": 9,
      "outputs": [
        {
          "output_type": "stream",
          "name": "stdout",
          "text": [
            "+----+----------------+\n",
            "|    |   count_star() |\n",
            "|----+----------------|\n",
            "|  0 |          26442 |\n",
            "+----+----------------+\n"
          ]
        }
      ]
    },
    {
      "cell_type": "markdown",
      "source": [
        "Count the number of nulls in the `name` field."
      ],
      "metadata": {
        "id": "mGnwnYYCjUFL"
      }
    },
    {
      "source": [
        "\n",
        "result = con.execute(\"SELECT COUNT(*) FROM airbnb_data WHERE name IS NULL\").df()\n",
        "print(tabulate(result, headers='keys', tablefmt='psql'))"
      ],
      "cell_type": "code",
      "metadata": {
        "colab": {
          "base_uri": "https://localhost:8080/"
        },
        "id": "uEo8obMSjI4f",
        "outputId": "617482ad-d3ad-4830-abc4-c8eeabd3734c"
      },
      "execution_count": 10,
      "outputs": [
        {
          "output_type": "stream",
          "name": "stdout",
          "text": [
            "+----+----------------+\n",
            "|    |   count_star() |\n",
            "|----+----------------|\n",
            "|  0 |            250 |\n",
            "+----+----------------+\n"
          ]
        }
      ]
    },
    {
      "cell_type": "markdown",
      "source": [
        "Show the tables in the database."
      ],
      "metadata": {
        "id": "JMHvgjSaj_1n"
      }
    },
    {
      "cell_type": "code",
      "source": [
        "result = con.execute(\"SHOW TABLES\").df()\n",
        "print(tabulate(result, headers='keys', tablefmt='psql'))"
      ],
      "metadata": {
        "colab": {
          "base_uri": "https://localhost:8080/"
        },
        "id": "hK-B1zZbjOIH",
        "outputId": "3ecbaef0-183d-45c0-c779-7ccdbbd6b5ed"
      },
      "execution_count": 11,
      "outputs": [
        {
          "output_type": "stream",
          "name": "stdout",
          "text": [
            "+----+-------------+\n",
            "|    | name        |\n",
            "|----+-------------|\n",
            "|  0 | airbnb_data |\n",
            "+----+-------------+\n"
          ]
        }
      ]
    },
    {
      "cell_type": "markdown",
      "source": [
        "## UDF in SQL\n",
        "\n",
        "Create a UDF and run it in the SQL querry. Note that DuckDB requires you to define the data type."
      ],
      "metadata": {
        "id": "INrMpX8BE3kZ"
      }
    },
    {
      "source": [
        "from duckdb.typing import DOUBLE\n",
        "\n",
        "def total_price(price: DOUBLE, minimum_nights: DOUBLE) -> DOUBLE:\n",
        "  \"\"\"Calculates the total price of an Airbnb listing.\n",
        "\n",
        "  Args:\n",
        "    price: The price per night for the listing.\n",
        "    minimum_nights: The minimum number of nights required to book.\n",
        "\n",
        "  Returns:\n",
        "    The total price of the Airbnb listing.\n",
        "  \"\"\"\n",
        "  return price * minimum_nights"
      ],
      "cell_type": "code",
      "metadata": {
        "id": "RgoNLprSGxex"
      },
      "execution_count": 12,
      "outputs": []
    },
    {
      "cell_type": "code",
      "source": [
        "# Register the UDF with DuckDB, explicitly setting the return type\n",
        "con.create_function(\"total_price\", total_price, return_type=DOUBLE)"
      ],
      "metadata": {
        "colab": {
          "base_uri": "https://localhost:8080/"
        },
        "id": "JuZteoy6EEu7",
        "outputId": "3a45e560-d390-4465-8f11-cdc77b9e8b38"
      },
      "execution_count": 13,
      "outputs": [
        {
          "output_type": "execute_result",
          "data": {
            "text/plain": [
              "<duckdb.duckdb.DuckDBPyConnection at 0x7e9c83dd23b0>"
            ]
          },
          "metadata": {},
          "execution_count": 13
        }
      ]
    },
    {
      "cell_type": "code",
      "source": [
        "# Use the UDF in a SQL query!!! Limit to 10 rows\n",
        "result = con.execute(\"SELECT total_price(price, minimum_nights) AS total_price FROM airbnb_data LIMIT 10\").df()\n",
        "print(tabulate(result, headers='keys', tablefmt='psql'))"
      ],
      "metadata": {
        "colab": {
          "base_uri": "https://localhost:8080/"
        },
        "id": "VZ41Gdw2EWnp",
        "outputId": "1b9988b2-38a6-49cb-a314-116ba3446bb2"
      },
      "execution_count": 14,
      "outputs": [
        {
          "output_type": "stream",
          "name": "stdout",
          "text": [
            "+----+---------------+\n",
            "|    |   total_price |\n",
            "|----+---------------|\n",
            "|  0 |          9660 |\n",
            "|  1 |          4260 |\n",
            "|  2 |          1860 |\n",
            "|  3 |         11040 |\n",
            "|  4 |          2040 |\n",
            "|  5 |          1731 |\n",
            "|  6 |          3195 |\n",
            "|  7 |         47700 |\n",
            "|  8 |          2036 |\n",
            "|  9 |           582 |\n",
            "+----+---------------+\n"
          ]
        }
      ]
    },
    {
      "cell_type": "markdown",
      "source": [
        "## Build a ML model from DuckDB"
      ],
      "metadata": {
        "id": "-YLUY0dd_nUg"
      }
    },
    {
      "cell_type": "markdown",
      "source": [
        "### Load data\n",
        "Let's use the California houseing dataset to build a simple XGboost model."
      ],
      "metadata": {
        "id": "xEhKkMNb_w0d"
      }
    },
    {
      "cell_type": "code",
      "source": [
        "# For this example, let's use a built-in dataset and simulate a binary target.\n",
        "df2 = pd.read_csv('sample_data/california_housing_train.csv')"
      ],
      "metadata": {
        "id": "FlN-keniFSSE"
      },
      "execution_count": 15,
      "outputs": []
    },
    {
      "cell_type": "code",
      "source": [
        "# Create a table in the database from the pandas DataFrame - Super cool!\n",
        "con.execute(\"CREATE OR REPLACE TABLE california_housing_train AS SELECT * FROM df2\")"
      ],
      "metadata": {
        "colab": {
          "base_uri": "https://localhost:8080/"
        },
        "id": "obVPOjJ1__2v",
        "outputId": "a302d0cd-67b8-4903-8c7d-a8f637a1ad60"
      },
      "execution_count": 16,
      "outputs": [
        {
          "output_type": "execute_result",
          "data": {
            "text/plain": [
              "<duckdb.duckdb.DuckDBPyConnection at 0x7e9c83dd23b0>"
            ]
          },
          "metadata": {},
          "execution_count": 16
        }
      ]
    },
    {
      "cell_type": "markdown",
      "source": [
        "Let's verify both of our tables are in our database."
      ],
      "metadata": {
        "id": "Ecvhg0siA5HP"
      }
    },
    {
      "cell_type": "code",
      "source": [
        "#View tables in database\n",
        "result = con.execute(\"SHOW TABLES\").df()\n",
        "print(tabulate(result, headers='keys', tablefmt='psql'))"
      ],
      "metadata": {
        "colab": {
          "base_uri": "https://localhost:8080/"
        },
        "id": "4RUCaqPsAjdx",
        "outputId": "4fcf9087-afec-4f30-a322-4f6428edc7be"
      },
      "execution_count": 17,
      "outputs": [
        {
          "output_type": "stream",
          "name": "stdout",
          "text": [
            "+----+--------------------------+\n",
            "|    | name                     |\n",
            "|----+--------------------------|\n",
            "|  0 | airbnb_data              |\n",
            "|  1 | california_housing_train |\n",
            "+----+--------------------------+\n"
          ]
        }
      ]
    },
    {
      "cell_type": "markdown",
      "source": [
        "### Build Model"
      ],
      "metadata": {
        "id": "hTF5yhu3BE5b"
      }
    },
    {
      "cell_type": "markdown",
      "source": [
        "Let's build a model without using pandas (reading data directly from the database using SQL) to show that we can go beyond the memory contraints of pandas."
      ],
      "metadata": {
        "id": "tMFY13ZkCjn-"
      }
    },
    {
      "cell_type": "code",
      "source": [
        "import numpy as np\n",
        "import xgboost as xgb\n",
        "from sklearn.model_selection import cross_val_score, KFold\n",
        "from sklearn.metrics import mean_absolute_error"
      ],
      "metadata": {
        "id": "vGecH8rQDwQI"
      },
      "execution_count": 18,
      "outputs": []
    },
    {
      "cell_type": "code",
      "source": [
        "#Print the first 5 values from california_housing_train table\n",
        "\n",
        "result = con.execute(\"SELECT * FROM california_housing_train LIMIT 5\").df()\n",
        "print(tabulate(result, headers='keys', tablefmt='psql'))"
      ],
      "metadata": {
        "colab": {
          "base_uri": "https://localhost:8080/"
        },
        "id": "Hz2TZrrBBypU",
        "outputId": "d4c87c9c-74eb-4aa6-b5ed-24a81a439ca7"
      },
      "execution_count": 19,
      "outputs": [
        {
          "output_type": "stream",
          "name": "stdout",
          "text": [
            "+----+-------------+------------+----------------------+---------------+------------------+--------------+--------------+-----------------+----------------------+\n",
            "|    |   longitude |   latitude |   housing_median_age |   total_rooms |   total_bedrooms |   population |   households |   median_income |   median_house_value |\n",
            "|----+-------------+------------+----------------------+---------------+------------------+--------------+--------------+-----------------+----------------------|\n",
            "|  0 |     -114.31 |      34.19 |                   15 |          5612 |             1283 |         1015 |          472 |          1.4936 |                66900 |\n",
            "|  1 |     -114.47 |      34.4  |                   19 |          7650 |             1901 |         1129 |          463 |          1.82   |                80100 |\n",
            "|  2 |     -114.56 |      33.69 |                   17 |           720 |              174 |          333 |          117 |          1.6509 |                85700 |\n",
            "|  3 |     -114.57 |      33.64 |                   14 |          1501 |              337 |          515 |          226 |          3.1917 |                73400 |\n",
            "|  4 |     -114.57 |      33.57 |                   20 |          1454 |              326 |          624 |          262 |          1.925  |                65500 |\n",
            "+----+-------------+------------+----------------------+---------------+------------------+--------------+--------------+-----------------+----------------------+\n"
          ]
        }
      ]
    },
    {
      "cell_type": "markdown",
      "source": [
        "####Fetch Data"
      ],
      "metadata": {
        "id": "SWkAHxGwC6Eh"
      }
    },
    {
      "source": [
        "query = \"\"\"\n",
        "    SELECT\n",
        "        housing_median_age,\n",
        "        total_rooms,\n",
        "        total_bedrooms,\n",
        "        population,\n",
        "        households,\n",
        "        median_income,\n",
        "        median_house_value\n",
        "    FROM\n",
        "        california_housing_train;\n",
        "    \"\"\"\n",
        "\n",
        "    # Execute the query and fetch the result as a NumPy array\n",
        "result = con.execute(query)\n",
        "data = result.fetchnumpy()"
      ],
      "cell_type": "code",
      "metadata": {
        "id": "l1CND96QC84m"
      },
      "execution_count": 20,
      "outputs": []
    },
    {
      "cell_type": "code",
      "source": [
        "type(data)"
      ],
      "metadata": {
        "colab": {
          "base_uri": "https://localhost:8080/"
        },
        "id": "7h9st476EUmJ",
        "outputId": "29a69e1f-a27d-4dfe-ccc1-24113bcbc87b"
      },
      "execution_count": 21,
      "outputs": [
        {
          "output_type": "execute_result",
          "data": {
            "text/plain": [
              "dict"
            ]
          },
          "metadata": {},
          "execution_count": 21
        }
      ]
    },
    {
      "source": [
        "data.keys()"
      ],
      "cell_type": "code",
      "metadata": {
        "colab": {
          "base_uri": "https://localhost:8080/"
        },
        "id": "nbX8NsS0E2fy",
        "outputId": "ea874812-91c5-45ae-c9ba-53f61764a4b4"
      },
      "execution_count": 22,
      "outputs": [
        {
          "output_type": "execute_result",
          "data": {
            "text/plain": [
              "dict_keys(['housing_median_age', 'total_rooms', 'total_bedrooms', 'population', 'households', 'median_income', 'median_house_value'])"
            ]
          },
          "metadata": {},
          "execution_count": 22
        }
      ]
    },
    {
      "cell_type": "markdown",
      "source": [
        "####Prepare the data"
      ],
      "metadata": {
        "id": "1tTSvAyvDOQm"
      }
    },
    {
      "source": [
        "# Assuming 'data' has a consistent structure across all keys. Convert values from dict keys into a list and construct a 2D array\n",
        "data_array = np.array(list(data.values())).transpose()\n",
        "\n",
        "# Now you can perform slicing accross 2D data Array\n",
        "X = data_array[:, :-1]  # Features, all fields except median_house_value\n",
        "y = data_array[:, -1]   # Target variable"
      ],
      "cell_type": "code",
      "metadata": {
        "id": "kd6LjfQAD0hL"
      },
      "execution_count": 23,
      "outputs": []
    },
    {
      "cell_type": "code",
      "source": [
        "# Check the shape of your 2D array\n",
        "X.shape"
      ],
      "metadata": {
        "colab": {
          "base_uri": "https://localhost:8080/"
        },
        "id": "l70fa8kKLToo",
        "outputId": "dd54cd6d-c4ff-4346-c12b-0b75107f51f3"
      },
      "execution_count": 24,
      "outputs": [
        {
          "output_type": "execute_result",
          "data": {
            "text/plain": [
              "(17000, 6)"
            ]
          },
          "metadata": {},
          "execution_count": 24
        }
      ]
    },
    {
      "cell_type": "markdown",
      "source": [
        "The shape looks good, 17k rows, 6 columns for the features as we would expect."
      ],
      "metadata": {
        "id": "b_lO5_IeMvqI"
      }
    },
    {
      "cell_type": "markdown",
      "source": [
        "####XGBoost model"
      ],
      "metadata": {
        "id": "UbHALKRgFjDk"
      }
    },
    {
      "cell_type": "code",
      "source": [
        "import time\n",
        "\n",
        "#Strat a timer\n",
        "start_time = time.time()\n",
        "\n",
        "model = xgb.XGBRegressor(objective='reg:squarederror', n_estimators=100, random_state=42, eval_metric='mae')\n",
        "\n",
        "# Perform 5-fold cross-validation with MAE\n",
        "kfold = KFold(n_splits=5, shuffle=True, random_state=42)\n",
        "scores = cross_val_score(model, X, y, cv=kfold, scoring='neg_mean_absolute_error')\n",
        "\n",
        "# Calculate the average MAE\n",
        "mae = -scores.mean()\n",
        "print(f\"Mean Absolute Error from cross-validation: {mae}\")\n",
        "\n",
        "# Fit the model on the entire dataset\n",
        "model.fit(X, y)\n",
        "\n",
        "# End timer\n",
        "end_time = time.time()\n",
        "elapsed_time = end_time - start_time\n",
        "\n",
        "print(f\"Elapsed time: {elapsed_time:.2f} seconds\")"
      ],
      "metadata": {
        "colab": {
          "base_uri": "https://localhost:8080/"
        },
        "id": "UHpKTLYhD1Kt",
        "outputId": "7d82cccc-1de9-430e-9288-2e8dd329e40d"
      },
      "execution_count": 76,
      "outputs": [
        {
          "output_type": "stream",
          "name": "stdout",
          "text": [
            "Mean Absolute Error from cross-validation: 48724.84331198299\n",
            "Elapsed time: 3.13 seconds\n"
          ]
        }
      ]
    },
    {
      "cell_type": "markdown",
      "source": [
        "####Load test data and predict"
      ],
      "metadata": {
        "id": "nHkDhUycGZh0"
      }
    },
    {
      "cell_type": "markdown",
      "source": [
        "Load test data into duck db, Check MAE on the TEST set, and predict the first 10 values."
      ],
      "metadata": {
        "id": "dOSTlJa6Gdw4"
      }
    },
    {
      "cell_type": "code",
      "source": [
        "#Load test data into a data frame\n",
        "df3 = pd.read_csv('sample_data/california_housing_test.csv')\n",
        "\n",
        "#Create a table in the database from the pandas DataFrame\n",
        "con.execute(\"CREATE OR REPLACE TABLE california_housing_test AS SELECT * FROM df3\")"
      ],
      "metadata": {
        "colab": {
          "base_uri": "https://localhost:8080/"
        },
        "id": "i8sLEIuPGYbT",
        "outputId": "6b158de5-0997-4da6-b50d-1482b31b1fad"
      },
      "execution_count": 26,
      "outputs": [
        {
          "output_type": "execute_result",
          "data": {
            "text/plain": [
              "<duckdb.duckdb.DuckDBPyConnection at 0x7e9c83dd23b0>"
            ]
          },
          "metadata": {},
          "execution_count": 26
        }
      ]
    },
    {
      "source": [
        "# Fetch test data using a SQL query\n",
        "query = \"\"\"\n",
        "SELECT\n",
        "    housing_median_age,\n",
        "    total_rooms,\n",
        "    total_bedrooms,\n",
        "    population,\n",
        "    households,\n",
        "    median_income,\n",
        "    median_house_value\n",
        "FROM\n",
        "    california_housing_test;\n",
        "\"\"\"\n",
        "result = con.execute(query)\n",
        "data_test = result.fetchnumpy()\n",
        "\n",
        "#Create 2D data array\n",
        "data_test_array = np.array(list(data_test.values())).transpose()\n",
        "\n",
        "# Prepare test data\n",
        "X_test = data_test_array[:, :-1]\n",
        "y_test = data_test_array[:, -1]"
      ],
      "cell_type": "code",
      "metadata": {
        "id": "3N_OUi3TH_FS"
      },
      "execution_count": 27,
      "outputs": []
    },
    {
      "cell_type": "code",
      "source": [
        "X_test.shape"
      ],
      "metadata": {
        "colab": {
          "base_uri": "https://localhost:8080/"
        },
        "id": "LnAZxR7HLFdP",
        "outputId": "648442a0-e7a3-4097-9d4e-13aa4331bb1b"
      },
      "execution_count": 28,
      "outputs": [
        {
          "output_type": "execute_result",
          "data": {
            "text/plain": [
              "(3000, 6)"
            ]
          },
          "metadata": {},
          "execution_count": 28
        }
      ]
    },
    {
      "source": [
        "# Make predictions on the test set\n",
        "y_pred = model.predict(X_test)\n",
        "\n",
        "# Calculate the MAE\n",
        "mae = mean_absolute_error(y_test, y_pred)\n",
        "print(f\"Mean Absolute Error on Test Data: {mae}\")"
      ],
      "cell_type": "code",
      "metadata": {
        "colab": {
          "base_uri": "https://localhost:8080/"
        },
        "id": "ya7hv3nbIory",
        "outputId": "8ce554a3-f2d8-49ff-8e64-bcf8d0e2fa86"
      },
      "execution_count": 29,
      "outputs": [
        {
          "output_type": "stream",
          "name": "stdout",
          "text": [
            "Mean Absolute Error on Test Data: 48475.23351692708\n"
          ]
        }
      ]
    },
    {
      "cell_type": "code",
      "source": [
        "# Print the first 10 predictions and their MAE\n",
        "for i in range(10):\n",
        "  print(f\"Prediction {i+1}: {round(y_pred[i])}, Actual: {round(y_test[i])}, MAE: {round(abs(y_pred[i] - y_test[i]))}\")\n"
      ],
      "metadata": {
        "id": "KAB0PHPSOB36",
        "colab": {
          "base_uri": "https://localhost:8080/"
        },
        "outputId": "00f0833f-f20a-4722-bc31-41c758eea14b"
      },
      "execution_count": 30,
      "outputs": [
        {
          "output_type": "stream",
          "name": "stdout",
          "text": [
            "Prediction 1: 410082, Actual: 344700, MAE: 65382\n",
            "Prediction 2: 206192, Actual: 176500, MAE: 29692\n",
            "Prediction 3: 286720, Actual: 270500, MAE: 16220\n",
            "Prediction 4: 187867, Actual: 330000, MAE: 142133\n",
            "Prediction 5: 108805, Actual: 81700, MAE: 27105\n",
            "Prediction 6: 85838, Actual: 67000, MAE: 18838\n",
            "Prediction 7: 78256, Actual: 67000, MAE: 11256\n",
            "Prediction 8: 119331, Actual: 166900, MAE: 47569\n",
            "Prediction 9: 194991, Actual: 194400, MAE: 591\n",
            "Prediction 10: 124903, Actual: 164200, MAE: 39297\n"
          ]
        }
      ]
    },
    {
      "cell_type": "markdown",
      "source": [
        "### Parallelize model training\n",
        "\n"
      ],
      "metadata": {
        "id": "AGWJyvEYOzSf"
      }
    },
    {
      "cell_type": "markdown",
      "source": [
        "Let's pretend our dataset was very varge and we wanted to parallelize it accros multiple cores.\n",
        "\n",
        "You can train models that don't fit in memory using **Dask**.\n",
        "\n",
        "\n",
        "Dask is a parallel computing library that allows you to scale your computations beyond a single machine's memory. It can handle large datasets by distributing them across multiple cores or machines.\n",
        "\n",
        "For model training, Dask offers several strategies:\n",
        "\n",
        "1. **Dask-ML**: This library provides scalable machine learning algorithms that can operate on Dask arrays and dataframes. These algorithms are designed to handle datasets larger than memory.\n",
        "2. **Incremental Learning**: For models that support incremental learning (like SGDClassifier), Dask can train on chunks of data sequentially, updating the model with each chunk.\n",
        "3. **Joblib with Dask backend**: You can parallelize the training process of existing scikit-learn models using joblib with the Dask backend. This allows you to distribute the training tasks across a Dask cluster."
      ],
      "metadata": {
        "id": "yKwY6xpHPftN"
      }
    },
    {
      "source": [
        "#!pip install dask distributed scikit-learn==1.2.2 xgboost"
      ],
      "cell_type": "code",
      "metadata": {
        "id": "jrXxJb9_PoHi"
      },
      "execution_count": 31,
      "outputs": []
    },
    {
      "source": [
        "from dask.distributed import Client\n",
        "client = Client(processes=False)"
      ],
      "cell_type": "code",
      "metadata": {
        "id": "l4ck7-7vP12R"
      },
      "execution_count": null,
      "outputs": []
    },
    {
      "source": [
        "import joblib\n",
        "import xgboost as xgb\n",
        "from sklearn.model_selection import cross_val_score, KFold\n",
        "\n",
        "#Strat a timer\n",
        "start_time = time.time()\n",
        "\n",
        "with joblib.parallel_backend('dask'):\n",
        "  #n_jobs=-1 will make model use all available cores\n",
        "  model = xgb.XGBRegressor(objective='reg:squarederror', n_estimators=100, random_state=42, n_jobs=-1)\n",
        "\n",
        "  kfold = KFold(n_splits=5, shuffle=True, random_state=42)\n",
        "  scores = cross_val_score(model, X, y, cv=kfold, scoring='neg_mean_absolute_error')\n",
        "\n",
        "  mae = -scores.mean()\n",
        "  print(f\"Mean Absolute Error from cross-validation: {mae}\")\n",
        "\n",
        "  model.fit(X, y)\n",
        "\n",
        "  # End timer\n",
        "end_time = time.time()\n",
        "elapsed_time = end_time - start_time\n",
        "\n",
        "print(f\"Elapsed time: {elapsed_time:.2f} seconds\")"
      ],
      "cell_type": "code",
      "metadata": {
        "colab": {
          "base_uri": "https://localhost:8080/"
        },
        "id": "UbUHj9UOP32W",
        "outputId": "694cb814-1e73-478b-f235-5e47521eff04"
      },
      "execution_count": 33,
      "outputs": [
        {
          "output_type": "stream",
          "name": "stdout",
          "text": [
            "Mean Absolute Error from cross-validation: 48724.84331198299\n",
            "Elapsed time: 3.15 seconds\n"
          ]
        }
      ]
    },
    {
      "cell_type": "markdown",
      "source": [
        "The Original code tool 11.07 seconds while the parallelized code took 2.41 seconds to run. A 4x improvement!"
      ],
      "metadata": {
        "id": "oTU_Ex35Rm5s"
      }
    },
    {
      "cell_type": "markdown",
      "source": [
        "### Save results to Parquet\n",
        "\n",
        "When compared to formats like CSV, Parquet brings the following advantages:\n",
        "1. It’s faster to read and write, often by 4-10x\n",
        "\n",
        "2. It’s more compact to store, often by 2-5x\n",
        "\n",
        "3. It has a schema, and so there’s no ambiguity about what types the columns are. This avoids confusing errors.\n",
        "\n",
        "4. It supports more advanced data types, like categoricals, proper datetimes, and more\n",
        "\n",
        "5. It’s more portable, and can be used with other systems like databases or Apache Spark\n",
        "\n",
        "6. Depending on how the data is partitioned Dask can identify sorted columns, and sometimes pick out subsets of data more efficiently\n",
        "\n"
      ],
      "metadata": {
        "id": "EhFZJRM2hnpB"
      }
    },
    {
      "cell_type": "markdown",
      "source": [
        "#### Slow implementation\n",
        "Add a new column to existing table to store predictions."
      ],
      "metadata": {
        "id": "JKY5_1JQmKJ5"
      }
    },
    {
      "cell_type": "code",
      "source": [
        "# Add predictions column to california_housing_test\n",
        "con.execute(\"ALTER TABLE california_housing_test ADD COLUMN predictions DOUBLE\")"
      ],
      "metadata": {
        "colab": {
          "base_uri": "https://localhost:8080/"
        },
        "id": "L5Z3Pzg3jLET",
        "outputId": "be545d2d-89a8-4113-9745-bb31b03753fc"
      },
      "execution_count": 34,
      "outputs": [
        {
          "output_type": "execute_result",
          "data": {
            "text/plain": [
              "<duckdb.duckdb.DuckDBPyConnection at 0x7e9c83dd23b0>"
            ]
          },
          "metadata": {},
          "execution_count": 34
        }
      ]
    },
    {
      "cell_type": "markdown",
      "source": [
        "Predict in minibatches of 1000. We're purposely not using Pandas to show you can do this without dataframes. This is a slow way to do it."
      ],
      "metadata": {
        "id": "QVj8WakzjUOl"
      }
    },
    {
      "source": [
        "# Fetch data in batches of 1000\n",
        "batch_size = 1000\n",
        "for i in range(0, len(X_test), batch_size):\n",
        "  X_batch = X_test[i:i+batch_size]\n",
        "  y_pred_batch = model.predict(X_batch)\n",
        "\n",
        "  # Update predictions column for the current batch\n",
        "  for j, prediction in enumerate(y_pred_batch):\n",
        "    con.execute(f\"UPDATE california_housing_test SET predictions = {prediction} WHERE rowid = {i+j+1}\")"
      ],
      "cell_type": "code",
      "metadata": {
        "id": "Yv7gsBYfjLqs"
      },
      "execution_count": 35,
      "outputs": []
    },
    {
      "cell_type": "code",
      "source": [
        "query = \"\"\"\n",
        "SELECT\n",
        "    housing_median_age,\n",
        "    total_rooms,\n",
        "    total_bedrooms,\n",
        "    population,\n",
        "    households,\n",
        "    median_income,\n",
        "    median_house_value,\n",
        "    predictions\n",
        "FROM\n",
        "    california_housing_test\n",
        "LIMIT 10;\n",
        "\"\"\"\n",
        "result = con.execute(query).df()\n",
        "print(tabulate(result, headers='keys', tablefmt='psql'))"
      ],
      "metadata": {
        "colab": {
          "base_uri": "https://localhost:8080/"
        },
        "id": "GK4BTK9skYYs",
        "outputId": "01ce0009-6562-475e-a4a3-cdeca8f1b072"
      },
      "execution_count": 36,
      "outputs": [
        {
          "output_type": "stream",
          "name": "stdout",
          "text": [
            "+----+----------------------+---------------+------------------+--------------+--------------+-----------------+----------------------+---------------+\n",
            "|    |   housing_median_age |   total_rooms |   total_bedrooms |   population |   households |   median_income |   median_house_value |   predictions |\n",
            "|----+----------------------+---------------+------------------+--------------+--------------+-----------------+----------------------+---------------|\n",
            "|  0 |                   27 |          3885 |              661 |         1537 |          606 |          6.6085 |               344700 |         nan   |\n",
            "|  1 |                   43 |          1510 |              310 |          809 |          277 |          3.599  |               176500 |      410082   |\n",
            "|  2 |                   27 |          3589 |              507 |         1484 |          495 |          5.7934 |               270500 |      206192   |\n",
            "|  3 |                   28 |            67 |               15 |           49 |           11 |          6.1359 |               330000 |      286720   |\n",
            "|  4 |                   19 |          1241 |              244 |          850 |          237 |          2.9375 |                81700 |      187867   |\n",
            "|  5 |                   37 |          1018 |              213 |          663 |          204 |          1.6635 |                67000 |      108805   |\n",
            "|  6 |                   43 |          1009 |              225 |          604 |          218 |          1.6641 |                67000 |       85838.2 |\n",
            "|  7 |                   19 |          2310 |              471 |         1341 |          441 |          3.225  |               166900 |       78255.6 |\n",
            "|  8 |                   15 |          3080 |              617 |         1446 |          599 |          3.6696 |               194400 |      119331   |\n",
            "|  9 |                   31 |          2402 |              632 |         2830 |          603 |          2.3333 |               164200 |      194991   |\n",
            "+----+----------------------+---------------+------------------+--------------+--------------+-----------------+----------------------+---------------+\n"
          ]
        }
      ]
    },
    {
      "cell_type": "code",
      "source": [
        "query = \"\"\"\n",
        "COPY (SELECT * FROM california_housing_test)\n",
        "TO 'california_housing_test.parquet' (FORMAT PARQUET);\n",
        "\"\"\"\n",
        "\n",
        "#Export to parquet\n",
        "con.execute(query)"
      ],
      "metadata": {
        "colab": {
          "base_uri": "https://localhost:8080/"
        },
        "id": "qvjzecDMj00n",
        "outputId": "a7843d8b-50fc-4d02-abf2-4c0ce669bd3b"
      },
      "execution_count": 37,
      "outputs": [
        {
          "output_type": "execute_result",
          "data": {
            "text/plain": [
              "<duckdb.duckdb.DuckDBPyConnection at 0x7e9c83dd23b0>"
            ]
          },
          "metadata": {},
          "execution_count": 37
        }
      ]
    },
    {
      "cell_type": "markdown",
      "source": [
        "#### Parallelized implementation\n",
        "\n",
        "This is the proper way to parallelize the predictions using Dask and saving to parquet.\n",
        "\n",
        "Let's start by deleting the prdiction column from our test data."
      ],
      "metadata": {
        "id": "aCkvX_VqVG8I"
      }
    },
    {
      "cell_type": "code",
      "source": [
        "query = \"\"\"\n",
        "ALTER TABLE\n",
        "    california_housing_test\n",
        "DROP COLUMN\n",
        "    predictions;\n",
        "\"\"\"\n",
        "\n",
        "#Export to parquet\n",
        "con.execute(query)"
      ],
      "metadata": {
        "colab": {
          "base_uri": "https://localhost:8080/"
        },
        "id": "iZxoHRNAVeEG",
        "outputId": "6f5319d6-a548-4931-a900-1bd1f8cdc5f7"
      },
      "execution_count": 39,
      "outputs": [
        {
          "output_type": "execute_result",
          "data": {
            "text/plain": [
              "<duckdb.duckdb.DuckDBPyConnection at 0x7e9c83dd23b0>"
            ]
          },
          "metadata": {},
          "execution_count": 39
        }
      ]
    },
    {
      "cell_type": "markdown",
      "source": [
        "Validate the field was dropped."
      ],
      "metadata": {
        "id": "kCH6voHRXby_"
      }
    },
    {
      "cell_type": "code",
      "source": [
        "result = con.execute(\"SELECT * FROM california_housing_test LIMIT 5\").df()\n",
        "print(tabulate(result, headers='keys', tablefmt='psql'))"
      ],
      "metadata": {
        "colab": {
          "base_uri": "https://localhost:8080/"
        },
        "id": "xPo3t2pvXf2M",
        "outputId": "07a4ea51-f97c-453c-8ab2-aac694ac87b2"
      },
      "execution_count": 41,
      "outputs": [
        {
          "output_type": "stream",
          "name": "stdout",
          "text": [
            "+----+-------------+------------+----------------------+---------------+------------------+--------------+--------------+-----------------+----------------------+\n",
            "|    |   longitude |   latitude |   housing_median_age |   total_rooms |   total_bedrooms |   population |   households |   median_income |   median_house_value |\n",
            "|----+-------------+------------+----------------------+---------------+------------------+--------------+--------------+-----------------+----------------------|\n",
            "|  0 |     -122.05 |      37.37 |                   27 |          3885 |              661 |         1537 |          606 |          6.6085 |               344700 |\n",
            "|  1 |     -118.3  |      34.26 |                   43 |          1510 |              310 |          809 |          277 |          3.599  |               176500 |\n",
            "|  2 |     -117.81 |      33.78 |                   27 |          3589 |              507 |         1484 |          495 |          5.7934 |               270500 |\n",
            "|  3 |     -118.36 |      33.82 |                   28 |            67 |               15 |           49 |           11 |          6.1359 |               330000 |\n",
            "|  4 |     -119.67 |      36.33 |                   19 |          1241 |              244 |          850 |          237 |          2.9375 |                81700 |\n",
            "+----+-------------+------------+----------------------+---------------+------------------+--------------+--------------+-----------------+----------------------+\n"
          ]
        }
      ]
    },
    {
      "cell_type": "markdown",
      "source": [
        "Great, the prediction field was dropped. Let's add a id field as an index to make it easier to recreate the table after distributed computing."
      ],
      "metadata": {
        "id": "yJR2rNPMg9wi"
      }
    },
    {
      "cell_type": "code",
      "source": [
        "query = \"\"\"\n",
        "ALTER TABLE california_housing_test ADD COLUMN id INTEGER;\n",
        "UPDATE california_housing_test SET id = rowid;\n",
        "\"\"\"\n",
        "con.execute(query)"
      ],
      "metadata": {
        "colab": {
          "base_uri": "https://localhost:8080/"
        },
        "id": "H8-gFINvhfqZ",
        "outputId": "77df732b-baab-442a-e761-db58f3eb196c"
      },
      "execution_count": 59,
      "outputs": [
        {
          "output_type": "execute_result",
          "data": {
            "text/plain": [
              "<duckdb.duckdb.DuckDBPyConnection at 0x7e9c83dd23b0>"
            ]
          },
          "metadata": {},
          "execution_count": 59
        }
      ]
    },
    {
      "cell_type": "code",
      "source": [
        "# Validate the id field was added.\n",
        "result = con.execute(\"SELECT * FROM california_housing_test LIMIT 5\").df()\n",
        "print(tabulate(result, headers='keys', tablefmt='psql'))"
      ],
      "metadata": {
        "colab": {
          "base_uri": "https://localhost:8080/"
        },
        "id": "LDW9Tgj7hh43",
        "outputId": "61cbb9ab-d94d-457a-92ca-1680608230f6"
      },
      "execution_count": 60,
      "outputs": [
        {
          "output_type": "stream",
          "name": "stdout",
          "text": [
            "+----+-------------+------------+----------------------+---------------+------------------+--------------+--------------+-----------------+----------------------+------+\n",
            "|    |   longitude |   latitude |   housing_median_age |   total_rooms |   total_bedrooms |   population |   households |   median_income |   median_house_value |   id |\n",
            "|----+-------------+------------+----------------------+---------------+------------------+--------------+--------------+-----------------+----------------------+------|\n",
            "|  0 |     -122.05 |      37.37 |                   27 |          3885 |              661 |         1537 |          606 |          6.6085 |               344700 |    0 |\n",
            "|  1 |     -118.3  |      34.26 |                   43 |          1510 |              310 |          809 |          277 |          3.599  |               176500 |    1 |\n",
            "|  2 |     -117.81 |      33.78 |                   27 |          3589 |              507 |         1484 |          495 |          5.7934 |               270500 |    2 |\n",
            "|  3 |     -118.36 |      33.82 |                   28 |            67 |               15 |           49 |           11 |          6.1359 |               330000 |    3 |\n",
            "|  4 |     -119.67 |      36.33 |                   19 |          1241 |              244 |          850 |          237 |          2.9375 |                81700 |    4 |\n",
            "+----+-------------+------------+----------------------+---------------+------------------+--------------+--------------+-----------------+----------------------+------+\n"
          ]
        }
      ]
    },
    {
      "cell_type": "markdown",
      "source": [
        "\n",
        "\n",
        "Now let's load the test data into a dask partitioned dataframe with 8 partitions since my lapptop has 8 cores. Data dataframes work on up to 100 GB on laptops and are just pandas under the hood.\n",
        "\n",
        "https://docs.dask.org/en/stable/dataframe.html"
      ],
      "metadata": {
        "id": "HHVtUxEsXy3X"
      }
    },
    {
      "cell_type": "markdown",
      "source": [
        "SQLAlchemy, which is used by dask.dataframe.read_sql_table, does not have a registered dialect for DuckDB. Dask's read_sql_table function relies on SQLAlchemy for database connections, but as of now, DuckDB does not have native support for SQLAlchemy dialects.\n",
        "\n",
        "To load data from DuckDB into Dask, you can use an alternative approach by:\n",
        "\n",
        "1. Loading the data into a Pandas DataFrame first\n",
        "2. converting it into a Dask DataFrame.\n"
      ],
      "metadata": {
        "id": "s1EhtKGLc_ac"
      }
    },
    {
      "cell_type": "code",
      "source": [
        "import dask.dataframe as dd\n",
        "import pandas as pd\n",
        "\n",
        "# Load DuckDB table into a Pandas DataFrame\n",
        "result = con.execute(\"SELECT * FROM california_housing_test\").df()\n",
        "\n",
        "# Convert Pandas DataFrame to Dask DataFrame\n",
        "ddf = dd.from_pandas(df, npartitions=8)"
      ],
      "metadata": {
        "id": "lOFL1GD7Zs69"
      },
      "execution_count": 62,
      "outputs": []
    },
    {
      "cell_type": "markdown",
      "source": [
        "In the real world, you would probably export the duckdb data as a parquet file then import it to a dask dataframe."
      ],
      "metadata": {
        "id": "NtAIVL1wecnr"
      }
    },
    {
      "cell_type": "code",
      "source": [
        "# Query to export as parquet\n",
        "query = \"\"\"\n",
        "COPY (SELECT * FROM california_housing_test)\n",
        "TO 'california_housing_test.parquet' (FORMAT PARQUET);\n",
        "\"\"\"\n",
        "\n",
        "#Export to parquet\n",
        "con.execute(query)"
      ],
      "metadata": {
        "colab": {
          "base_uri": "https://localhost:8080/"
        },
        "id": "FgqkhoPgeQBv",
        "outputId": "84bb3834-0488-420d-bd44-69407102c11f"
      },
      "execution_count": 63,
      "outputs": [
        {
          "output_type": "execute_result",
          "data": {
            "text/plain": [
              "<duckdb.duckdb.DuckDBPyConnection at 0x7e9c83dd23b0>"
            ]
          },
          "metadata": {},
          "execution_count": 63
        }
      ]
    },
    {
      "cell_type": "code",
      "source": [
        "# Load the exported Parquet files into a Dask DataFrame\n",
        "ddf = dd.read_parquet('california_housing_test.parquet', npartitions=8, index_col='id')"
      ],
      "metadata": {
        "id": "d0F78asPevWg"
      },
      "execution_count": 64,
      "outputs": []
    },
    {
      "cell_type": "code",
      "source": [
        "ddf.head()"
      ],
      "metadata": {
        "colab": {
          "base_uri": "https://localhost:8080/",
          "height": 206
        },
        "id": "rAQ1QuBXiKBB",
        "outputId": "06e0d1e5-de9c-4c82-851b-bf64ee89862c"
      },
      "execution_count": 68,
      "outputs": [
        {
          "output_type": "execute_result",
          "data": {
            "text/plain": [
              "   longitude  latitude  housing_median_age  total_rooms  total_bedrooms  \\\n",
              "0    -122.05     37.37                27.0       3885.0           661.0   \n",
              "1    -118.30     34.26                43.0       1510.0           310.0   \n",
              "2    -117.81     33.78                27.0       3589.0           507.0   \n",
              "3    -118.36     33.82                28.0         67.0            15.0   \n",
              "4    -119.67     36.33                19.0       1241.0           244.0   \n",
              "\n",
              "   population  households  median_income  median_house_value  id  \n",
              "0      1537.0       606.0         6.6085            344700.0   0  \n",
              "1       809.0       277.0         3.5990            176500.0   1  \n",
              "2      1484.0       495.0         5.7934            270500.0   2  \n",
              "3        49.0        11.0         6.1359            330000.0   3  \n",
              "4       850.0       237.0         2.9375             81700.0   4  "
            ],
            "text/html": [
              "\n",
              "  <div id=\"df-68199cf7-dbc4-43a7-b17e-365d9292c60c\" class=\"colab-df-container\">\n",
              "    <div>\n",
              "<style scoped>\n",
              "    .dataframe tbody tr th:only-of-type {\n",
              "        vertical-align: middle;\n",
              "    }\n",
              "\n",
              "    .dataframe tbody tr th {\n",
              "        vertical-align: top;\n",
              "    }\n",
              "\n",
              "    .dataframe thead th {\n",
              "        text-align: right;\n",
              "    }\n",
              "</style>\n",
              "<table border=\"1\" class=\"dataframe\">\n",
              "  <thead>\n",
              "    <tr style=\"text-align: right;\">\n",
              "      <th></th>\n",
              "      <th>longitude</th>\n",
              "      <th>latitude</th>\n",
              "      <th>housing_median_age</th>\n",
              "      <th>total_rooms</th>\n",
              "      <th>total_bedrooms</th>\n",
              "      <th>population</th>\n",
              "      <th>households</th>\n",
              "      <th>median_income</th>\n",
              "      <th>median_house_value</th>\n",
              "      <th>id</th>\n",
              "    </tr>\n",
              "  </thead>\n",
              "  <tbody>\n",
              "    <tr>\n",
              "      <th>0</th>\n",
              "      <td>-122.05</td>\n",
              "      <td>37.37</td>\n",
              "      <td>27.0</td>\n",
              "      <td>3885.0</td>\n",
              "      <td>661.0</td>\n",
              "      <td>1537.0</td>\n",
              "      <td>606.0</td>\n",
              "      <td>6.6085</td>\n",
              "      <td>344700.0</td>\n",
              "      <td>0</td>\n",
              "    </tr>\n",
              "    <tr>\n",
              "      <th>1</th>\n",
              "      <td>-118.30</td>\n",
              "      <td>34.26</td>\n",
              "      <td>43.0</td>\n",
              "      <td>1510.0</td>\n",
              "      <td>310.0</td>\n",
              "      <td>809.0</td>\n",
              "      <td>277.0</td>\n",
              "      <td>3.5990</td>\n",
              "      <td>176500.0</td>\n",
              "      <td>1</td>\n",
              "    </tr>\n",
              "    <tr>\n",
              "      <th>2</th>\n",
              "      <td>-117.81</td>\n",
              "      <td>33.78</td>\n",
              "      <td>27.0</td>\n",
              "      <td>3589.0</td>\n",
              "      <td>507.0</td>\n",
              "      <td>1484.0</td>\n",
              "      <td>495.0</td>\n",
              "      <td>5.7934</td>\n",
              "      <td>270500.0</td>\n",
              "      <td>2</td>\n",
              "    </tr>\n",
              "    <tr>\n",
              "      <th>3</th>\n",
              "      <td>-118.36</td>\n",
              "      <td>33.82</td>\n",
              "      <td>28.0</td>\n",
              "      <td>67.0</td>\n",
              "      <td>15.0</td>\n",
              "      <td>49.0</td>\n",
              "      <td>11.0</td>\n",
              "      <td>6.1359</td>\n",
              "      <td>330000.0</td>\n",
              "      <td>3</td>\n",
              "    </tr>\n",
              "    <tr>\n",
              "      <th>4</th>\n",
              "      <td>-119.67</td>\n",
              "      <td>36.33</td>\n",
              "      <td>19.0</td>\n",
              "      <td>1241.0</td>\n",
              "      <td>244.0</td>\n",
              "      <td>850.0</td>\n",
              "      <td>237.0</td>\n",
              "      <td>2.9375</td>\n",
              "      <td>81700.0</td>\n",
              "      <td>4</td>\n",
              "    </tr>\n",
              "  </tbody>\n",
              "</table>\n",
              "</div>\n",
              "    <div class=\"colab-df-buttons\">\n",
              "\n",
              "  <div class=\"colab-df-container\">\n",
              "    <button class=\"colab-df-convert\" onclick=\"convertToInteractive('df-68199cf7-dbc4-43a7-b17e-365d9292c60c')\"\n",
              "            title=\"Convert this dataframe to an interactive table.\"\n",
              "            style=\"display:none;\">\n",
              "\n",
              "  <svg xmlns=\"http://www.w3.org/2000/svg\" height=\"24px\" viewBox=\"0 -960 960 960\">\n",
              "    <path d=\"M120-120v-720h720v720H120Zm60-500h600v-160H180v160Zm220 220h160v-160H400v160Zm0 220h160v-160H400v160ZM180-400h160v-160H180v160Zm440 0h160v-160H620v160ZM180-180h160v-160H180v160Zm440 0h160v-160H620v160Z\"/>\n",
              "  </svg>\n",
              "    </button>\n",
              "\n",
              "  <style>\n",
              "    .colab-df-container {\n",
              "      display:flex;\n",
              "      gap: 12px;\n",
              "    }\n",
              "\n",
              "    .colab-df-convert {\n",
              "      background-color: #E8F0FE;\n",
              "      border: none;\n",
              "      border-radius: 50%;\n",
              "      cursor: pointer;\n",
              "      display: none;\n",
              "      fill: #1967D2;\n",
              "      height: 32px;\n",
              "      padding: 0 0 0 0;\n",
              "      width: 32px;\n",
              "    }\n",
              "\n",
              "    .colab-df-convert:hover {\n",
              "      background-color: #E2EBFA;\n",
              "      box-shadow: 0px 1px 2px rgba(60, 64, 67, 0.3), 0px 1px 3px 1px rgba(60, 64, 67, 0.15);\n",
              "      fill: #174EA6;\n",
              "    }\n",
              "\n",
              "    .colab-df-buttons div {\n",
              "      margin-bottom: 4px;\n",
              "    }\n",
              "\n",
              "    [theme=dark] .colab-df-convert {\n",
              "      background-color: #3B4455;\n",
              "      fill: #D2E3FC;\n",
              "    }\n",
              "\n",
              "    [theme=dark] .colab-df-convert:hover {\n",
              "      background-color: #434B5C;\n",
              "      box-shadow: 0px 1px 3px 1px rgba(0, 0, 0, 0.15);\n",
              "      filter: drop-shadow(0px 1px 2px rgba(0, 0, 0, 0.3));\n",
              "      fill: #FFFFFF;\n",
              "    }\n",
              "  </style>\n",
              "\n",
              "    <script>\n",
              "      const buttonEl =\n",
              "        document.querySelector('#df-68199cf7-dbc4-43a7-b17e-365d9292c60c button.colab-df-convert');\n",
              "      buttonEl.style.display =\n",
              "        google.colab.kernel.accessAllowed ? 'block' : 'none';\n",
              "\n",
              "      async function convertToInteractive(key) {\n",
              "        const element = document.querySelector('#df-68199cf7-dbc4-43a7-b17e-365d9292c60c');\n",
              "        const dataTable =\n",
              "          await google.colab.kernel.invokeFunction('convertToInteractive',\n",
              "                                                    [key], {});\n",
              "        if (!dataTable) return;\n",
              "\n",
              "        const docLinkHtml = 'Like what you see? Visit the ' +\n",
              "          '<a target=\"_blank\" href=https://colab.research.google.com/notebooks/data_table.ipynb>data table notebook</a>'\n",
              "          + ' to learn more about interactive tables.';\n",
              "        element.innerHTML = '';\n",
              "        dataTable['output_type'] = 'display_data';\n",
              "        await google.colab.output.renderOutput(dataTable, element);\n",
              "        const docLink = document.createElement('div');\n",
              "        docLink.innerHTML = docLinkHtml;\n",
              "        element.appendChild(docLink);\n",
              "      }\n",
              "    </script>\n",
              "  </div>\n",
              "\n",
              "\n",
              "<div id=\"df-aaee1b7a-c83a-486d-bea5-8ae98527e332\">\n",
              "  <button class=\"colab-df-quickchart\" onclick=\"quickchart('df-aaee1b7a-c83a-486d-bea5-8ae98527e332')\"\n",
              "            title=\"Suggest charts\"\n",
              "            style=\"display:none;\">\n",
              "\n",
              "<svg xmlns=\"http://www.w3.org/2000/svg\" height=\"24px\"viewBox=\"0 0 24 24\"\n",
              "     width=\"24px\">\n",
              "    <g>\n",
              "        <path d=\"M19 3H5c-1.1 0-2 .9-2 2v14c0 1.1.9 2 2 2h14c1.1 0 2-.9 2-2V5c0-1.1-.9-2-2-2zM9 17H7v-7h2v7zm4 0h-2V7h2v10zm4 0h-2v-4h2v4z\"/>\n",
              "    </g>\n",
              "</svg>\n",
              "  </button>\n",
              "\n",
              "<style>\n",
              "  .colab-df-quickchart {\n",
              "      --bg-color: #E8F0FE;\n",
              "      --fill-color: #1967D2;\n",
              "      --hover-bg-color: #E2EBFA;\n",
              "      --hover-fill-color: #174EA6;\n",
              "      --disabled-fill-color: #AAA;\n",
              "      --disabled-bg-color: #DDD;\n",
              "  }\n",
              "\n",
              "  [theme=dark] .colab-df-quickchart {\n",
              "      --bg-color: #3B4455;\n",
              "      --fill-color: #D2E3FC;\n",
              "      --hover-bg-color: #434B5C;\n",
              "      --hover-fill-color: #FFFFFF;\n",
              "      --disabled-bg-color: #3B4455;\n",
              "      --disabled-fill-color: #666;\n",
              "  }\n",
              "\n",
              "  .colab-df-quickchart {\n",
              "    background-color: var(--bg-color);\n",
              "    border: none;\n",
              "    border-radius: 50%;\n",
              "    cursor: pointer;\n",
              "    display: none;\n",
              "    fill: var(--fill-color);\n",
              "    height: 32px;\n",
              "    padding: 0;\n",
              "    width: 32px;\n",
              "  }\n",
              "\n",
              "  .colab-df-quickchart:hover {\n",
              "    background-color: var(--hover-bg-color);\n",
              "    box-shadow: 0 1px 2px rgba(60, 64, 67, 0.3), 0 1px 3px 1px rgba(60, 64, 67, 0.15);\n",
              "    fill: var(--button-hover-fill-color);\n",
              "  }\n",
              "\n",
              "  .colab-df-quickchart-complete:disabled,\n",
              "  .colab-df-quickchart-complete:disabled:hover {\n",
              "    background-color: var(--disabled-bg-color);\n",
              "    fill: var(--disabled-fill-color);\n",
              "    box-shadow: none;\n",
              "  }\n",
              "\n",
              "  .colab-df-spinner {\n",
              "    border: 2px solid var(--fill-color);\n",
              "    border-color: transparent;\n",
              "    border-bottom-color: var(--fill-color);\n",
              "    animation:\n",
              "      spin 1s steps(1) infinite;\n",
              "  }\n",
              "\n",
              "  @keyframes spin {\n",
              "    0% {\n",
              "      border-color: transparent;\n",
              "      border-bottom-color: var(--fill-color);\n",
              "      border-left-color: var(--fill-color);\n",
              "    }\n",
              "    20% {\n",
              "      border-color: transparent;\n",
              "      border-left-color: var(--fill-color);\n",
              "      border-top-color: var(--fill-color);\n",
              "    }\n",
              "    30% {\n",
              "      border-color: transparent;\n",
              "      border-left-color: var(--fill-color);\n",
              "      border-top-color: var(--fill-color);\n",
              "      border-right-color: var(--fill-color);\n",
              "    }\n",
              "    40% {\n",
              "      border-color: transparent;\n",
              "      border-right-color: var(--fill-color);\n",
              "      border-top-color: var(--fill-color);\n",
              "    }\n",
              "    60% {\n",
              "      border-color: transparent;\n",
              "      border-right-color: var(--fill-color);\n",
              "    }\n",
              "    80% {\n",
              "      border-color: transparent;\n",
              "      border-right-color: var(--fill-color);\n",
              "      border-bottom-color: var(--fill-color);\n",
              "    }\n",
              "    90% {\n",
              "      border-color: transparent;\n",
              "      border-bottom-color: var(--fill-color);\n",
              "    }\n",
              "  }\n",
              "</style>\n",
              "\n",
              "  <script>\n",
              "    async function quickchart(key) {\n",
              "      const quickchartButtonEl =\n",
              "        document.querySelector('#' + key + ' button');\n",
              "      quickchartButtonEl.disabled = true;  // To prevent multiple clicks.\n",
              "      quickchartButtonEl.classList.add('colab-df-spinner');\n",
              "      try {\n",
              "        const charts = await google.colab.kernel.invokeFunction(\n",
              "            'suggestCharts', [key], {});\n",
              "      } catch (error) {\n",
              "        console.error('Error during call to suggestCharts:', error);\n",
              "      }\n",
              "      quickchartButtonEl.classList.remove('colab-df-spinner');\n",
              "      quickchartButtonEl.classList.add('colab-df-quickchart-complete');\n",
              "    }\n",
              "    (() => {\n",
              "      let quickchartButtonEl =\n",
              "        document.querySelector('#df-aaee1b7a-c83a-486d-bea5-8ae98527e332 button');\n",
              "      quickchartButtonEl.style.display =\n",
              "        google.colab.kernel.accessAllowed ? 'block' : 'none';\n",
              "    })();\n",
              "  </script>\n",
              "</div>\n",
              "\n",
              "    </div>\n",
              "  </div>\n"
            ],
            "application/vnd.google.colaboratory.intrinsic+json": {
              "type": "dataframe",
              "summary": "{\n  \"name\": \"ddf\",\n  \"rows\": 5,\n  \"fields\": [\n    {\n      \"column\": \"longitude\",\n      \"properties\": {\n        \"dtype\": \"number\",\n        \"std\": 1.716382824430493,\n        \"min\": -122.05,\n        \"max\": -117.81,\n        \"num_unique_values\": 5,\n        \"samples\": [\n          -118.3,\n          -119.67,\n          -117.81\n        ],\n        \"semantic_type\": \"\",\n        \"description\": \"\"\n      }\n    },\n    {\n      \"column\": \"latitude\",\n      \"properties\": {\n        \"dtype\": \"number\",\n        \"std\": 1.6394724761337092,\n        \"min\": 33.78,\n        \"max\": 37.37,\n        \"num_unique_values\": 5,\n        \"samples\": [\n          34.26,\n          36.33,\n          33.78\n        ],\n        \"semantic_type\": \"\",\n        \"description\": \"\"\n      }\n    },\n    {\n      \"column\": \"housing_median_age\",\n      \"properties\": {\n        \"dtype\": \"number\",\n        \"std\": 8.72926113711808,\n        \"min\": 19.0,\n        \"max\": 43.0,\n        \"num_unique_values\": 4,\n        \"samples\": [\n          43.0,\n          19.0,\n          27.0\n        ],\n        \"semantic_type\": \"\",\n        \"description\": \"\"\n      }\n    },\n    {\n      \"column\": \"total_rooms\",\n      \"properties\": {\n        \"dtype\": \"number\",\n        \"std\": 1628.9385500994197,\n        \"min\": 67.0,\n        \"max\": 3885.0,\n        \"num_unique_values\": 5,\n        \"samples\": [\n          1510.0,\n          1241.0,\n          3589.0\n        ],\n        \"semantic_type\": \"\",\n        \"description\": \"\"\n      }\n    },\n    {\n      \"column\": \"total_bedrooms\",\n      \"properties\": {\n        \"dtype\": \"number\",\n        \"std\": 248.19206272562386,\n        \"min\": 15.0,\n        \"max\": 661.0,\n        \"num_unique_values\": 5,\n        \"samples\": [\n          310.0,\n          244.0,\n          507.0\n        ],\n        \"semantic_type\": \"\",\n        \"description\": \"\"\n      }\n    },\n    {\n      \"column\": \"population\",\n      \"properties\": {\n        \"dtype\": \"number\",\n        \"std\": 606.4896536627809,\n        \"min\": 49.0,\n        \"max\": 1537.0,\n        \"num_unique_values\": 5,\n        \"samples\": [\n          809.0,\n          850.0,\n          1484.0\n        ],\n        \"semantic_type\": \"\",\n        \"description\": \"\"\n      }\n    },\n    {\n      \"column\": \"households\",\n      \"properties\": {\n        \"dtype\": \"number\",\n        \"std\": 232.6503814740049,\n        \"min\": 11.0,\n        \"max\": 606.0,\n        \"num_unique_values\": 5,\n        \"samples\": [\n          277.0,\n          237.0,\n          495.0\n        ],\n        \"semantic_type\": \"\",\n        \"description\": \"\"\n      }\n    },\n    {\n      \"column\": \"median_income\",\n      \"properties\": {\n        \"dtype\": \"number\",\n        \"std\": 1.637271187983225,\n        \"min\": 2.9375,\n        \"max\": 6.6085,\n        \"num_unique_values\": 5,\n        \"samples\": [\n          3.599,\n          2.9375,\n          5.7934\n        ],\n        \"semantic_type\": \"\",\n        \"description\": \"\"\n      }\n    },\n    {\n      \"column\": \"median_house_value\",\n      \"properties\": {\n        \"dtype\": \"number\",\n        \"std\": 110771.35008656344,\n        \"min\": 81700.0,\n        \"max\": 344700.0,\n        \"num_unique_values\": 5,\n        \"samples\": [\n          176500.0,\n          81700.0,\n          270500.0\n        ],\n        \"semantic_type\": \"\",\n        \"description\": \"\"\n      }\n    },\n    {\n      \"column\": \"id\",\n      \"properties\": {\n        \"dtype\": \"int32\",\n        \"num_unique_values\": 5,\n        \"samples\": [\n          1,\n          4,\n          2\n        ],\n        \"semantic_type\": \"\",\n        \"description\": \"\"\n      }\n    }\n  ]\n}"
            }
          },
          "metadata": {},
          "execution_count": 68
        }
      ]
    },
    {
      "cell_type": "markdown",
      "source": [
        "Let’s load and cache our dataset into our cluster’s distributed memory using df.persist(). This allows us to avoid repeated expensive data loading steps when doing multiple computations on the same data."
      ],
      "metadata": {
        "id": "TgZOcriCj6jY"
      }
    },
    {
      "cell_type": "code",
      "source": [
        "ddf = ddf.persist()"
      ],
      "metadata": {
        "id": "G9IVdi-Fj64t"
      },
      "execution_count": 73,
      "outputs": []
    },
    {
      "cell_type": "markdown",
      "source": [
        "The next step is to make predictions using XGBoost and dask.\n",
        "\n",
        " **There is conflicting documentation and I'm running into errors. This step is not so trivial.**"
      ],
      "metadata": {
        "id": "6kv_XSEyoWfu"
      }
    },
    {
      "cell_type": "code",
      "source": [
        "import xgboost as xgb\n",
        "from dask import dataframe as dd\n",
        "\n",
        "cluster = LocalCluster(n_workers=8, threads_per_worker=1)\n",
        "client = Client(cluster)\n",
        "\n",
        "# Convert your Dask DataFrame to DaskDMatrix (a special format for XGBoost with Dask)\n",
        "dmatrix = xgb.dask.DaskDMatrix(ddf)\n",
        "\n",
        "# Predict using the trained model\n",
        "predictions = xgb.dask.predict(your_dask_client, model, dmatrix)\n",
        "\n",
        "# Compute the predictions if needed (Dask operations are lazy by default)\n",
        "final_predictions = predictions.compute()\n",
        "\n",
        "# Display or use the predictions\n",
        "print(final_predictions)\n"
      ],
      "metadata": {
        "id": "q3h_n3djk2j9"
      },
      "execution_count": null,
      "outputs": []
    },
    {
      "cell_type": "markdown",
      "source": [
        "### Delete Table and Database"
      ],
      "metadata": {
        "id": "BeEgt0dzhlcJ"
      }
    },
    {
      "cell_type": "code",
      "source": [
        "# Delete the table\n",
        "con.execute(\"DROP TABLE IF EXISTS airbnb_data\")\n",
        "con.execute(\"DROP TABLE IF EXISTS california_housing_train\")\n",
        "con.execute(\"DROP TABLE IF EXISTS california_housing_test\")\n",
        "\n",
        "# Close the connection to the database\n",
        "con.close()\n",
        "\n",
        "# Delete the database file (optional)\n",
        "!rm airbnb.db\n"
      ],
      "metadata": {
        "id": "Ic4D-chThrQF"
      },
      "execution_count": 77,
      "outputs": []
    },
    {
      "cell_type": "code",
      "source": [],
      "metadata": {
        "id": "gI0qfDutoJy6"
      },
      "execution_count": null,
      "outputs": []
    }
  ]
}